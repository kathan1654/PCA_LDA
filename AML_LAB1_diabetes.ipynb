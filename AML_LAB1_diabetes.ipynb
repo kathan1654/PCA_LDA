{
  "cells": [
    {
      "cell_type": "markdown",
      "metadata": {
        "id": "view-in-github",
        "colab_type": "text"
      },
      "source": [
        "<a href=\"https://colab.research.google.com/github/kathan1654/PCA_LDA/blob/main/AML_LAB1_diabetes.ipynb\" target=\"_parent\"><img src=\"https://colab.research.google.com/assets/colab-badge.svg\" alt=\"Open In Colab\"/></a>"
      ]
    },
    {
      "cell_type": "code",
      "execution_count": null,
      "id": "e2974021",
      "metadata": {
        "id": "e2974021"
      },
      "outputs": [],
      "source": [
        "import numpy as np\n",
        "import pandas as pd\n",
        "\n",
        "#read_csv('C:\\Users\\katha\\OneDrive\\Documents\\data\\diabetes.csv')\n",
        "df = pd.read_csv(r\"C:/Users/katha/OneDrive/Documents/data/diabetes.csv\")"
      ]
    },
    {
      "cell_type": "code",
      "execution_count": null,
      "id": "e7e4e02f",
      "metadata": {
        "id": "e7e4e02f"
      },
      "outputs": [],
      "source": [
        "data = pd.DataFrame(df)"
      ]
    },
    {
      "cell_type": "code",
      "execution_count": null,
      "id": "4d492763",
      "metadata": {
        "id": "4d492763",
        "outputId": "47363bcf-e1d2-4c43-fad8-26d7538a0e43"
      },
      "outputs": [
        {
          "name": "stdout",
          "output_type": "stream",
          "text": [
            "<class 'pandas.core.frame.DataFrame'>\n",
            "RangeIndex: 768 entries, 0 to 767\n",
            "Data columns (total 9 columns):\n",
            " #   Column  Non-Null Count  Dtype  \n",
            "---  ------  --------------  -----  \n",
            " 0   preg    768 non-null    int64  \n",
            " 1   plas    768 non-null    int64  \n",
            " 2   pres    768 non-null    int64  \n",
            " 3   skin    768 non-null    int64  \n",
            " 4   insu    768 non-null    int64  \n",
            " 5   mass    768 non-null    float64\n",
            " 6   pedi    768 non-null    float64\n",
            " 7   age     768 non-null    int64  \n",
            " 8   class   768 non-null    object \n",
            "dtypes: float64(2), int64(6), object(1)\n",
            "memory usage: 54.1+ KB\n"
          ]
        }
      ],
      "source": [
        "data.info()"
      ]
    },
    {
      "cell_type": "code",
      "execution_count": null,
      "id": "9590bdfd",
      "metadata": {
        "id": "9590bdfd",
        "outputId": "79d4396c-8a50-46b2-b8fc-fde8dd055867"
      },
      "outputs": [
        {
          "data": {
            "text/html": [
              "<div>\n",
              "<style scoped>\n",
              "    .dataframe tbody tr th:only-of-type {\n",
              "        vertical-align: middle;\n",
              "    }\n",
              "\n",
              "    .dataframe tbody tr th {\n",
              "        vertical-align: top;\n",
              "    }\n",
              "\n",
              "    .dataframe thead th {\n",
              "        text-align: right;\n",
              "    }\n",
              "</style>\n",
              "<table border=\"1\" class=\"dataframe\">\n",
              "  <thead>\n",
              "    <tr style=\"text-align: right;\">\n",
              "      <th></th>\n",
              "      <th>preg</th>\n",
              "      <th>plas</th>\n",
              "      <th>pres</th>\n",
              "      <th>skin</th>\n",
              "      <th>insu</th>\n",
              "      <th>mass</th>\n",
              "      <th>pedi</th>\n",
              "      <th>age</th>\n",
              "      <th>class</th>\n",
              "    </tr>\n",
              "  </thead>\n",
              "  <tbody>\n",
              "    <tr>\n",
              "      <th>0</th>\n",
              "      <td>6</td>\n",
              "      <td>148</td>\n",
              "      <td>72</td>\n",
              "      <td>35</td>\n",
              "      <td>0</td>\n",
              "      <td>33.6</td>\n",
              "      <td>0.627</td>\n",
              "      <td>50</td>\n",
              "      <td>tested_positive</td>\n",
              "    </tr>\n",
              "    <tr>\n",
              "      <th>1</th>\n",
              "      <td>1</td>\n",
              "      <td>85</td>\n",
              "      <td>66</td>\n",
              "      <td>29</td>\n",
              "      <td>0</td>\n",
              "      <td>26.6</td>\n",
              "      <td>0.351</td>\n",
              "      <td>31</td>\n",
              "      <td>tested_negative</td>\n",
              "    </tr>\n",
              "    <tr>\n",
              "      <th>2</th>\n",
              "      <td>8</td>\n",
              "      <td>183</td>\n",
              "      <td>64</td>\n",
              "      <td>0</td>\n",
              "      <td>0</td>\n",
              "      <td>23.3</td>\n",
              "      <td>0.672</td>\n",
              "      <td>32</td>\n",
              "      <td>tested_positive</td>\n",
              "    </tr>\n",
              "    <tr>\n",
              "      <th>3</th>\n",
              "      <td>1</td>\n",
              "      <td>89</td>\n",
              "      <td>66</td>\n",
              "      <td>23</td>\n",
              "      <td>94</td>\n",
              "      <td>28.1</td>\n",
              "      <td>0.167</td>\n",
              "      <td>21</td>\n",
              "      <td>tested_negative</td>\n",
              "    </tr>\n",
              "    <tr>\n",
              "      <th>4</th>\n",
              "      <td>0</td>\n",
              "      <td>137</td>\n",
              "      <td>40</td>\n",
              "      <td>35</td>\n",
              "      <td>168</td>\n",
              "      <td>43.1</td>\n",
              "      <td>2.288</td>\n",
              "      <td>33</td>\n",
              "      <td>tested_positive</td>\n",
              "    </tr>\n",
              "  </tbody>\n",
              "</table>\n",
              "</div>"
            ],
            "text/plain": [
              "   preg  plas  pres  skin  insu  mass   pedi  age            class\n",
              "0     6   148    72    35     0  33.6  0.627   50  tested_positive\n",
              "1     1    85    66    29     0  26.6  0.351   31  tested_negative\n",
              "2     8   183    64     0     0  23.3  0.672   32  tested_positive\n",
              "3     1    89    66    23    94  28.1  0.167   21  tested_negative\n",
              "4     0   137    40    35   168  43.1  2.288   33  tested_positive"
            ]
          },
          "execution_count": 4,
          "metadata": {},
          "output_type": "execute_result"
        }
      ],
      "source": [
        "data.head()"
      ]
    },
    {
      "cell_type": "code",
      "execution_count": null,
      "id": "2ba460f6",
      "metadata": {
        "id": "2ba460f6",
        "outputId": "3a769568-7147-4562-e195-8df0bce0f88b"
      },
      "outputs": [
        {
          "data": {
            "text/plain": [
              "Index(['preg', 'plas', 'pres', 'skin', 'insu', 'mass', 'pedi', 'age', 'class'], dtype='object')"
            ]
          },
          "execution_count": 5,
          "metadata": {},
          "output_type": "execute_result"
        }
      ],
      "source": [
        "data.keys()"
      ]
    },
    {
      "cell_type": "code",
      "execution_count": null,
      "id": "47bae377",
      "metadata": {
        "id": "47bae377"
      },
      "outputs": [],
      "source": [
        "import matplotlib.pyplot as plt\n",
        "from sklearn.model_selection import train_test_split"
      ]
    },
    {
      "cell_type": "code",
      "execution_count": null,
      "id": "d086985f",
      "metadata": {
        "id": "d086985f"
      },
      "outputs": [],
      "source": [
        "X = data[['preg','plas','pres','skin','insu','mass','pedi','age']]\n"
      ]
    },
    {
      "cell_type": "code",
      "execution_count": null,
      "id": "ae3acf86",
      "metadata": {
        "id": "ae3acf86"
      },
      "outputs": [],
      "source": [
        "y = data['class']"
      ]
    },
    {
      "cell_type": "code",
      "execution_count": null,
      "id": "054447a9",
      "metadata": {
        "id": "054447a9"
      },
      "outputs": [],
      "source": [
        "X = pd.DataFrame(X)"
      ]
    },
    {
      "cell_type": "code",
      "execution_count": null,
      "id": "256754ba",
      "metadata": {
        "id": "256754ba"
      },
      "outputs": [],
      "source": [
        "y = pd.DataFrame(y)"
      ]
    },
    {
      "cell_type": "markdown",
      "id": "1ef5f5cc",
      "metadata": {
        "id": "1ef5f5cc"
      },
      "source": [
        "## Step3: spliting into test-train sets"
      ]
    },
    {
      "cell_type": "code",
      "execution_count": null,
      "id": "5a6d6249",
      "metadata": {
        "id": "5a6d6249"
      },
      "outputs": [],
      "source": [
        "X_train, X_test, y_train, y_test = train_test_split(X, y, random_state=0, train_size = 0.75)"
      ]
    },
    {
      "cell_type": "code",
      "execution_count": null,
      "id": "1374bab6",
      "metadata": {
        "id": "1374bab6",
        "outputId": "ae73d3b0-4a6d-4160-ef27-a2a5aacfea12"
      },
      "outputs": [
        {
          "data": {
            "text/html": [
              "<div>\n",
              "<style scoped>\n",
              "    .dataframe tbody tr th:only-of-type {\n",
              "        vertical-align: middle;\n",
              "    }\n",
              "\n",
              "    .dataframe tbody tr th {\n",
              "        vertical-align: top;\n",
              "    }\n",
              "\n",
              "    .dataframe thead th {\n",
              "        text-align: right;\n",
              "    }\n",
              "</style>\n",
              "<table border=\"1\" class=\"dataframe\">\n",
              "  <thead>\n",
              "    <tr style=\"text-align: right;\">\n",
              "      <th></th>\n",
              "      <th>preg</th>\n",
              "      <th>plas</th>\n",
              "      <th>pres</th>\n",
              "      <th>skin</th>\n",
              "      <th>insu</th>\n",
              "      <th>mass</th>\n",
              "      <th>pedi</th>\n",
              "      <th>age</th>\n",
              "    </tr>\n",
              "  </thead>\n",
              "  <tbody>\n",
              "    <tr>\n",
              "      <th>0</th>\n",
              "      <td>6</td>\n",
              "      <td>148</td>\n",
              "      <td>72</td>\n",
              "      <td>35</td>\n",
              "      <td>0</td>\n",
              "      <td>33.6</td>\n",
              "      <td>0.627</td>\n",
              "      <td>50</td>\n",
              "    </tr>\n",
              "    <tr>\n",
              "      <th>1</th>\n",
              "      <td>1</td>\n",
              "      <td>85</td>\n",
              "      <td>66</td>\n",
              "      <td>29</td>\n",
              "      <td>0</td>\n",
              "      <td>26.6</td>\n",
              "      <td>0.351</td>\n",
              "      <td>31</td>\n",
              "    </tr>\n",
              "    <tr>\n",
              "      <th>2</th>\n",
              "      <td>8</td>\n",
              "      <td>183</td>\n",
              "      <td>64</td>\n",
              "      <td>0</td>\n",
              "      <td>0</td>\n",
              "      <td>23.3</td>\n",
              "      <td>0.672</td>\n",
              "      <td>32</td>\n",
              "    </tr>\n",
              "    <tr>\n",
              "      <th>3</th>\n",
              "      <td>1</td>\n",
              "      <td>89</td>\n",
              "      <td>66</td>\n",
              "      <td>23</td>\n",
              "      <td>94</td>\n",
              "      <td>28.1</td>\n",
              "      <td>0.167</td>\n",
              "      <td>21</td>\n",
              "    </tr>\n",
              "    <tr>\n",
              "      <th>4</th>\n",
              "      <td>0</td>\n",
              "      <td>137</td>\n",
              "      <td>40</td>\n",
              "      <td>35</td>\n",
              "      <td>168</td>\n",
              "      <td>43.1</td>\n",
              "      <td>2.288</td>\n",
              "      <td>33</td>\n",
              "    </tr>\n",
              "  </tbody>\n",
              "</table>\n",
              "</div>"
            ],
            "text/plain": [
              "   preg  plas  pres  skin  insu  mass   pedi  age\n",
              "0     6   148    72    35     0  33.6  0.627   50\n",
              "1     1    85    66    29     0  26.6  0.351   31\n",
              "2     8   183    64     0     0  23.3  0.672   32\n",
              "3     1    89    66    23    94  28.1  0.167   21\n",
              "4     0   137    40    35   168  43.1  2.288   33"
            ]
          },
          "execution_count": 12,
          "metadata": {},
          "output_type": "execute_result"
        }
      ],
      "source": [
        "X.head()"
      ]
    },
    {
      "cell_type": "code",
      "execution_count": null,
      "id": "d2925ca9",
      "metadata": {
        "id": "d2925ca9",
        "outputId": "be5e8efc-9960-4d98-e25c-067fb1d85fec"
      },
      "outputs": [
        {
          "data": {
            "text/html": [
              "<div>\n",
              "<style scoped>\n",
              "    .dataframe tbody tr th:only-of-type {\n",
              "        vertical-align: middle;\n",
              "    }\n",
              "\n",
              "    .dataframe tbody tr th {\n",
              "        vertical-align: top;\n",
              "    }\n",
              "\n",
              "    .dataframe thead th {\n",
              "        text-align: right;\n",
              "    }\n",
              "</style>\n",
              "<table border=\"1\" class=\"dataframe\">\n",
              "  <thead>\n",
              "    <tr style=\"text-align: right;\">\n",
              "      <th></th>\n",
              "      <th>preg</th>\n",
              "      <th>plas</th>\n",
              "      <th>pres</th>\n",
              "      <th>skin</th>\n",
              "      <th>insu</th>\n",
              "      <th>mass</th>\n",
              "      <th>pedi</th>\n",
              "      <th>age</th>\n",
              "    </tr>\n",
              "  </thead>\n",
              "  <tbody>\n",
              "    <tr>\n",
              "      <th>0</th>\n",
              "      <td>6</td>\n",
              "      <td>148</td>\n",
              "      <td>72</td>\n",
              "      <td>35</td>\n",
              "      <td>0</td>\n",
              "      <td>33.6</td>\n",
              "      <td>0.627</td>\n",
              "      <td>50</td>\n",
              "    </tr>\n",
              "    <tr>\n",
              "      <th>1</th>\n",
              "      <td>1</td>\n",
              "      <td>85</td>\n",
              "      <td>66</td>\n",
              "      <td>29</td>\n",
              "      <td>0</td>\n",
              "      <td>26.6</td>\n",
              "      <td>0.351</td>\n",
              "      <td>31</td>\n",
              "    </tr>\n",
              "    <tr>\n",
              "      <th>2</th>\n",
              "      <td>8</td>\n",
              "      <td>183</td>\n",
              "      <td>64</td>\n",
              "      <td>0</td>\n",
              "      <td>0</td>\n",
              "      <td>23.3</td>\n",
              "      <td>0.672</td>\n",
              "      <td>32</td>\n",
              "    </tr>\n",
              "    <tr>\n",
              "      <th>3</th>\n",
              "      <td>1</td>\n",
              "      <td>89</td>\n",
              "      <td>66</td>\n",
              "      <td>23</td>\n",
              "      <td>94</td>\n",
              "      <td>28.1</td>\n",
              "      <td>0.167</td>\n",
              "      <td>21</td>\n",
              "    </tr>\n",
              "    <tr>\n",
              "      <th>4</th>\n",
              "      <td>0</td>\n",
              "      <td>137</td>\n",
              "      <td>40</td>\n",
              "      <td>35</td>\n",
              "      <td>168</td>\n",
              "      <td>43.1</td>\n",
              "      <td>2.288</td>\n",
              "      <td>33</td>\n",
              "    </tr>\n",
              "    <tr>\n",
              "      <th>...</th>\n",
              "      <td>...</td>\n",
              "      <td>...</td>\n",
              "      <td>...</td>\n",
              "      <td>...</td>\n",
              "      <td>...</td>\n",
              "      <td>...</td>\n",
              "      <td>...</td>\n",
              "      <td>...</td>\n",
              "    </tr>\n",
              "    <tr>\n",
              "      <th>763</th>\n",
              "      <td>10</td>\n",
              "      <td>101</td>\n",
              "      <td>76</td>\n",
              "      <td>48</td>\n",
              "      <td>180</td>\n",
              "      <td>32.9</td>\n",
              "      <td>0.171</td>\n",
              "      <td>63</td>\n",
              "    </tr>\n",
              "    <tr>\n",
              "      <th>764</th>\n",
              "      <td>2</td>\n",
              "      <td>122</td>\n",
              "      <td>70</td>\n",
              "      <td>27</td>\n",
              "      <td>0</td>\n",
              "      <td>36.8</td>\n",
              "      <td>0.340</td>\n",
              "      <td>27</td>\n",
              "    </tr>\n",
              "    <tr>\n",
              "      <th>765</th>\n",
              "      <td>5</td>\n",
              "      <td>121</td>\n",
              "      <td>72</td>\n",
              "      <td>23</td>\n",
              "      <td>112</td>\n",
              "      <td>26.2</td>\n",
              "      <td>0.245</td>\n",
              "      <td>30</td>\n",
              "    </tr>\n",
              "    <tr>\n",
              "      <th>766</th>\n",
              "      <td>1</td>\n",
              "      <td>126</td>\n",
              "      <td>60</td>\n",
              "      <td>0</td>\n",
              "      <td>0</td>\n",
              "      <td>30.1</td>\n",
              "      <td>0.349</td>\n",
              "      <td>47</td>\n",
              "    </tr>\n",
              "    <tr>\n",
              "      <th>767</th>\n",
              "      <td>1</td>\n",
              "      <td>93</td>\n",
              "      <td>70</td>\n",
              "      <td>31</td>\n",
              "      <td>0</td>\n",
              "      <td>30.4</td>\n",
              "      <td>0.315</td>\n",
              "      <td>23</td>\n",
              "    </tr>\n",
              "  </tbody>\n",
              "</table>\n",
              "<p>768 rows × 8 columns</p>\n",
              "</div>"
            ],
            "text/plain": [
              "     preg  plas  pres  skin  insu  mass   pedi  age\n",
              "0       6   148    72    35     0  33.6  0.627   50\n",
              "1       1    85    66    29     0  26.6  0.351   31\n",
              "2       8   183    64     0     0  23.3  0.672   32\n",
              "3       1    89    66    23    94  28.1  0.167   21\n",
              "4       0   137    40    35   168  43.1  2.288   33\n",
              "..    ...   ...   ...   ...   ...   ...    ...  ...\n",
              "763    10   101    76    48   180  32.9  0.171   63\n",
              "764     2   122    70    27     0  36.8  0.340   27\n",
              "765     5   121    72    23   112  26.2  0.245   30\n",
              "766     1   126    60     0     0  30.1  0.349   47\n",
              "767     1    93    70    31     0  30.4  0.315   23\n",
              "\n",
              "[768 rows x 8 columns]"
            ]
          },
          "execution_count": 13,
          "metadata": {},
          "output_type": "execute_result"
        }
      ],
      "source": [
        "X"
      ]
    },
    {
      "cell_type": "code",
      "execution_count": null,
      "id": "ffea936d",
      "metadata": {
        "id": "ffea936d",
        "outputId": "6f8a7caf-4a4a-462a-d12e-763f2cb4e447"
      },
      "outputs": [
        {
          "data": {
            "text/html": [
              "<div>\n",
              "<style scoped>\n",
              "    .dataframe tbody tr th:only-of-type {\n",
              "        vertical-align: middle;\n",
              "    }\n",
              "\n",
              "    .dataframe tbody tr th {\n",
              "        vertical-align: top;\n",
              "    }\n",
              "\n",
              "    .dataframe thead th {\n",
              "        text-align: right;\n",
              "    }\n",
              "</style>\n",
              "<table border=\"1\" class=\"dataframe\">\n",
              "  <thead>\n",
              "    <tr style=\"text-align: right;\">\n",
              "      <th></th>\n",
              "      <th>class</th>\n",
              "    </tr>\n",
              "  </thead>\n",
              "  <tbody>\n",
              "    <tr>\n",
              "      <th>0</th>\n",
              "      <td>tested_positive</td>\n",
              "    </tr>\n",
              "    <tr>\n",
              "      <th>1</th>\n",
              "      <td>tested_negative</td>\n",
              "    </tr>\n",
              "    <tr>\n",
              "      <th>2</th>\n",
              "      <td>tested_positive</td>\n",
              "    </tr>\n",
              "    <tr>\n",
              "      <th>3</th>\n",
              "      <td>tested_negative</td>\n",
              "    </tr>\n",
              "    <tr>\n",
              "      <th>4</th>\n",
              "      <td>tested_positive</td>\n",
              "    </tr>\n",
              "    <tr>\n",
              "      <th>...</th>\n",
              "      <td>...</td>\n",
              "    </tr>\n",
              "    <tr>\n",
              "      <th>763</th>\n",
              "      <td>tested_negative</td>\n",
              "    </tr>\n",
              "    <tr>\n",
              "      <th>764</th>\n",
              "      <td>tested_negative</td>\n",
              "    </tr>\n",
              "    <tr>\n",
              "      <th>765</th>\n",
              "      <td>tested_negative</td>\n",
              "    </tr>\n",
              "    <tr>\n",
              "      <th>766</th>\n",
              "      <td>tested_positive</td>\n",
              "    </tr>\n",
              "    <tr>\n",
              "      <th>767</th>\n",
              "      <td>tested_negative</td>\n",
              "    </tr>\n",
              "  </tbody>\n",
              "</table>\n",
              "<p>768 rows × 1 columns</p>\n",
              "</div>"
            ],
            "text/plain": [
              "               class\n",
              "0    tested_positive\n",
              "1    tested_negative\n",
              "2    tested_positive\n",
              "3    tested_negative\n",
              "4    tested_positive\n",
              "..               ...\n",
              "763  tested_negative\n",
              "764  tested_negative\n",
              "765  tested_negative\n",
              "766  tested_positive\n",
              "767  tested_negative\n",
              "\n",
              "[768 rows x 1 columns]"
            ]
          },
          "execution_count": 14,
          "metadata": {},
          "output_type": "execute_result"
        }
      ],
      "source": [
        "y"
      ]
    },
    {
      "cell_type": "markdown",
      "id": "56e4e5a1",
      "metadata": {
        "id": "56e4e5a1"
      },
      "source": [
        "## Step 4: standerdize the data"
      ]
    },
    {
      "cell_type": "code",
      "execution_count": null,
      "id": "376665bc",
      "metadata": {
        "id": "376665bc"
      },
      "outputs": [],
      "source": [
        "#Now standerdize the value tp make them between o to 1 \n",
        "#using standard scaler or minmax scaler\n",
        "#from sklearn.preprocessing import MinMaxScaler\n",
        "#however i am gonna use standard scaler\n",
        "from sklearn.preprocessing import StandardScaler"
      ]
    },
    {
      "cell_type": "code",
      "execution_count": null,
      "id": "3450a734",
      "metadata": {
        "id": "3450a734",
        "outputId": "b9f09997-f837-47b4-c982-a7d60b63fe00"
      },
      "outputs": [
        {
          "data": {
            "text/plain": [
              "StandardScaler()"
            ]
          },
          "execution_count": 16,
          "metadata": {},
          "output_type": "execute_result"
        }
      ],
      "source": [
        "#first fit then transform train data\n",
        "scaler=StandardScaler()\n",
        "scaler.fit(X_train)"
      ]
    },
    {
      "cell_type": "code",
      "execution_count": null,
      "id": "5099b427",
      "metadata": {
        "id": "5099b427"
      },
      "outputs": [],
      "source": [
        "scaled_train_data=scaler.transform(X_train)"
      ]
    },
    {
      "cell_type": "code",
      "execution_count": null,
      "id": "db5662a0",
      "metadata": {
        "id": "db5662a0",
        "outputId": "81267831-7c88-46d0-d1d3-9d2e493d2b39"
      },
      "outputs": [
        {
          "data": {
            "text/plain": [
              "array([[ 1.50755225, -1.01521454, -0.40451932, ..., -1.22070104,\n",
              "        -0.98325882, -0.04863985],\n",
              "       [-0.82986389, -0.09964691, -0.61509602, ...,  0.13719053,\n",
              "        -0.62493647, -0.88246592],\n",
              "       [-1.12204091, -0.95207195,  0.54307587, ...,  0.0240329 ,\n",
              "         0.39884168, -0.5489355 ],\n",
              "       ...,\n",
              "       [ 0.04666716, -0.85735805, -0.24658679, ..., -0.9440935 ,\n",
              "        -0.96519215, -1.04923114],\n",
              "       [ 2.09190629, -1.14149973,  0.2272108 , ..., -0.26514771,\n",
              "        -0.5075031 ,  0.11812536],\n",
              "       [ 0.33884418,  0.46863645,  0.64836422, ..., -4.04964181,\n",
              "         0.51627505,  2.953134  ]])"
            ]
          },
          "execution_count": 18,
          "metadata": {},
          "output_type": "execute_result"
        }
      ],
      "source": [
        "scaled_train_data"
      ]
    },
    {
      "cell_type": "code",
      "execution_count": null,
      "id": "127cfc33",
      "metadata": {
        "id": "127cfc33",
        "outputId": "239230f9-a7fd-4a8a-8d22-f51bd83f5a06"
      },
      "outputs": [
        {
          "data": {
            "text/plain": [
              "StandardScaler()"
            ]
          },
          "execution_count": 19,
          "metadata": {},
          "output_type": "execute_result"
        }
      ],
      "source": [
        "#fit then transform test data\n",
        "scaler.fit(X_test)"
      ]
    },
    {
      "cell_type": "code",
      "execution_count": null,
      "id": "a8197a54",
      "metadata": {
        "id": "a8197a54"
      },
      "outputs": [],
      "source": [
        "scaled_test_data=scaler.transform(X_test)"
      ]
    },
    {
      "cell_type": "code",
      "execution_count": null,
      "id": "5db1e4da",
      "metadata": {
        "id": "5db1e4da",
        "outputId": "e651e145-74ec-403e-e418-b667f6af855a"
      },
      "outputs": [
        {
          "data": {
            "text/plain": [
              "array([[-0.89466499,  2.40832035,  0.42614323, ...,  1.5176708 ,\n",
              "         2.78154275, -0.93394179],\n",
              "       [-0.58177669, -0.40019425,  0.32738704, ...,  0.29631107,\n",
              "        -0.23748131, -0.84250027],\n",
              "       [ 0.04399992, -1.34654156, -0.26515007, ...,  0.34884267,\n",
              "        -0.27712506, -0.65961722],\n",
              "       ...,\n",
              "       [-0.89466499, -0.33913959, -0.36390625, ..., -0.78058677,\n",
              "         1.41840764, -1.02538331],\n",
              "       [-0.26888838,  0.24087973,  0.52489941, ..., -1.34530148,\n",
              "        -0.65221593,  2.08362842],\n",
              "       [ 0.35688822, -0.98021357,  0.52489941, ..., -0.49166296,\n",
              "        -0.68271112,  0.43768103]])"
            ]
          },
          "execution_count": 21,
          "metadata": {},
          "output_type": "execute_result"
        }
      ],
      "source": [
        "scaled_test_data"
      ]
    },
    {
      "cell_type": "markdown",
      "id": "37960e1e",
      "metadata": {
        "id": "37960e1e"
      },
      "source": [
        "## Step 5 : Fit a Random Forest model on the train dataset and then predict the class for the test set. Record the confusion matrix and the accuracy."
      ]
    },
    {
      "cell_type": "code",
      "execution_count": null,
      "id": "516fb14d",
      "metadata": {
        "id": "516fb14d",
        "outputId": "540b61b3-9558-44ca-e59a-942adc064963"
      },
      "outputs": [
        {
          "name": "stderr",
          "output_type": "stream",
          "text": [
            "c:\\users\\katha\\appdata\\local\\programs\\python\\python37\\lib\\site-packages\\ipykernel_launcher.py:8: DataConversionWarning: A column-vector y was passed when a 1d array was expected. Please change the shape of y to (n_samples,), for example using ravel().\n",
            "  \n"
          ]
        }
      ],
      "source": [
        "from sklearn.ensemble import RandomForestClassifier\n",
        "from sklearn.metrics import confusion_matrix, accuracy_score\n",
        "\n",
        "# Create an instance of the RandomForestClassifier\n",
        "clf = RandomForestClassifier()\n",
        "\n",
        "# Fit the classifier to the train data\n",
        "clf.fit(X_train, y_train)\n",
        "\n",
        "# Make predictions on the test data\n",
        "y_pred = clf.predict(X_test)"
      ]
    },
    {
      "cell_type": "code",
      "execution_count": null,
      "id": "adbe6eee",
      "metadata": {
        "id": "adbe6eee",
        "outputId": "d864bc94-2017-4318-ebcb-34d73ea44ab2"
      },
      "outputs": [
        {
          "name": "stdout",
          "output_type": "stream",
          "text": [
            "[[115  15]\n",
            " [ 24  38]]\n"
          ]
        }
      ],
      "source": [
        "# Calculate the confusion matrix\n",
        "conf_mat = confusion_matrix(y_test, y_pred)\n",
        "print(conf_mat)"
      ]
    },
    {
      "cell_type": "code",
      "execution_count": null,
      "id": "eaaf7acb",
      "metadata": {
        "id": "eaaf7acb",
        "outputId": "c247deb5-582d-4f66-81b8-fc3daa4a8c56"
      },
      "outputs": [
        {
          "name": "stdout",
          "output_type": "stream",
          "text": [
            "0.5677083333333334\n"
          ]
        }
      ],
      "source": [
        "# Calculate the accuracy\n",
        "acc = accuracy_score(y_test, y_pred)\n",
        "print(acc)"
      ]
    },
    {
      "cell_type": "code",
      "execution_count": null,
      "id": "c73f8ee9",
      "metadata": {
        "id": "c73f8ee9",
        "outputId": "16e4d285-651c-412c-cdf9-c5368e0a4e98"
      },
      "outputs": [
        {
          "data": {
            "image/png": "[encoded data removed]",
            "text/plain": [
              "<Figure size 432x288 with 2 Axes>"
            ]
          },
          "metadata": {
            "needs_background": "light"
          },
          "output_type": "display_data"
        }
      ],
      "source": [
        "import seaborn as sns\n",
        "import matplotlib.pyplot as plt\n",
        "\n",
        "# Create a heatmap of the confusion matrix\n",
        "sns.heatmap(conf_mat, annot=True, fmt='d', cmap='Blues')\n",
        "\n",
        "# Add labels for the x and y axis\n",
        "plt.xlabel('Predicted')\n",
        "plt.ylabel('True')\n",
        "\n",
        "# Display the plot\n",
        "plt.show()\n"
      ]
    },
    {
      "cell_type": "markdown",
      "id": "cd9a3c6d",
      "metadata": {
        "id": "cd9a3c6d"
      },
      "source": [
        "## Step 6 : Apply PCA to find the principal components (fit and transform the train set and transform the test set)"
      ]
    },
    {
      "cell_type": "code",
      "execution_count": null,
      "id": "8d97aa6e",
      "metadata": {
        "id": "8d97aa6e"
      },
      "outputs": [],
      "source": [
        "# import PCA from sklearn.decomposiotion\n",
        "from sklearn.decomposition import PCA"
      ]
    },
    {
      "cell_type": "code",
      "execution_count": null,
      "id": "6ffec871",
      "metadata": {
        "id": "6ffec871"
      },
      "outputs": [],
      "source": [
        "#define how many of dimention you want\n",
        "pca=PCA(n_components=3)"
      ]
    },
    {
      "cell_type": "code",
      "execution_count": null,
      "id": "a9ce6fe0",
      "metadata": {
        "id": "a9ce6fe0",
        "outputId": "df89f946-b522-4204-c378-140530000555"
      },
      "outputs": [
        {
          "data": {
            "text/plain": [
              "PCA(n_components=3)"
            ]
          },
          "execution_count": 28,
          "metadata": {},
          "output_type": "execute_result"
        }
      ],
      "source": [
        "#again fit and transform the scaled data\n",
        "pca.fit(scaled_train_data)"
      ]
    },
    {
      "cell_type": "code",
      "execution_count": null,
      "id": "1525d1b2",
      "metadata": {
        "id": "1525d1b2"
      },
      "outputs": [],
      "source": [
        "x_train_pca=pca.transform(scaled_train_data)"
      ]
    },
    {
      "cell_type": "code",
      "execution_count": null,
      "id": "e08fae93",
      "metadata": {
        "id": "e08fae93"
      },
      "outputs": [],
      "source": [
        "# do the same for test data\n",
        "#fit and transform test data\n",
        "pca.fit(scaled_test_data)\n",
        "x_test_pca=pca.transform(scaled_test_data)"
      ]
    },
    {
      "cell_type": "code",
      "execution_count": null,
      "id": "497f5dfb",
      "metadata": {
        "id": "497f5dfb",
        "outputId": "2b09be7b-2864-46c4-d99e-33e4afe4d5c3"
      },
      "outputs": [
        {
          "data": {
            "text/plain": [
              "(576, 8)"
            ]
          },
          "execution_count": 31,
          "metadata": {},
          "output_type": "execute_result"
        }
      ],
      "source": [
        "#check the dimensions\n",
        "scaled_train_data.shape"
      ]
    },
    {
      "cell_type": "code",
      "execution_count": null,
      "id": "94145ddb",
      "metadata": {
        "id": "94145ddb",
        "outputId": "dfc35c6f-eab6-490a-8e3a-5def51469387"
      },
      "outputs": [
        {
          "data": {
            "text/plain": [
              "(576, 3)"
            ]
          },
          "execution_count": 32,
          "metadata": {},
          "output_type": "execute_result"
        }
      ],
      "source": [
        "x_train_pca.shape"
      ]
    },
    {
      "cell_type": "markdown",
      "id": "1f02200a",
      "metadata": {
        "id": "1f02200a"
      },
      "source": [
        "### Step 7 : Generate Scree plot to find the best number of principal components (denote it as d)."
      ]
    },
    {
      "cell_type": "code",
      "execution_count": null,
      "id": "fb211f93",
      "metadata": {
        "id": "fb211f93",
        "outputId": "8b77c5dc-d0c4-479b-c4e4-3bd90a526901"
      },
      "outputs": [
        {
          "data": {
            "image/png": "[encoded data removed]",
            "text/plain": [
              "<Figure size 432x288 with 1 Axes>"
            ]
          },
          "metadata": {
            "needs_background": "light"
          },
          "output_type": "display_data"
        }
      ],
      "source": [
        "pca = PCA()\n",
        "pca.fit(X)\n",
        "\n",
        "# Generate the scree plot\n",
        "plt.plot(pca.explained_variance_ratio_)\n",
        "plt.xlabel('Number of Principal Components')\n",
        "plt.ylabel('Proportion of Variance Explained')\n",
        "plt.show()"
      ]
    },
    {
      "cell_type": "markdown",
      "id": "b7125665",
      "metadata": {
        "id": "b7125665"
      },
      "source": [
        "### Its seems like d=2 is our elbow point"
      ]
    },
    {
      "cell_type": "markdown",
      "id": "fb728eef",
      "metadata": {
        "id": "fb728eef"
      },
      "source": [
        "## step 8 : Once you find d, re-run PCA with d components."
      ]
    },
    {
      "cell_type": "markdown",
      "id": "7f26143c",
      "metadata": {
        "id": "7f26143c"
      },
      "source": [
        "### here I alredy assumed n_component as 2. So, There is no need of doing the same process again"
      ]
    },
    {
      "cell_type": "code",
      "execution_count": null,
      "id": "78078b7d",
      "metadata": {
        "id": "78078b7d"
      },
      "outputs": [],
      "source": [
        "pca=PCA(n_components=2)"
      ]
    },
    {
      "cell_type": "code",
      "execution_count": null,
      "id": "ec7342a5",
      "metadata": {
        "id": "ec7342a5",
        "outputId": "ed3c101e-ac19-47b6-b914-70e8b0ba4654"
      },
      "outputs": [
        {
          "data": {
            "text/plain": [
              "PCA(n_components=2)"
            ]
          },
          "execution_count": 35,
          "metadata": {},
          "output_type": "execute_result"
        }
      ],
      "source": [
        "pca.fit(scaled_train_data)"
      ]
    },
    {
      "cell_type": "code",
      "execution_count": null,
      "id": "94e18213",
      "metadata": {
        "id": "94e18213"
      },
      "outputs": [],
      "source": [
        "x_train_pca=pca.transform(scaled_train_data)"
      ]
    },
    {
      "cell_type": "code",
      "execution_count": null,
      "id": "710bf84f",
      "metadata": {
        "id": "710bf84f"
      },
      "outputs": [],
      "source": [
        "# do the same for test data\n",
        "#fit and transform test data\n",
        "pca.fit(scaled_test_data)\n",
        "x_test_pca=pca.transform(scaled_test_data)"
      ]
    },
    {
      "cell_type": "code",
      "execution_count": null,
      "id": "c84bd701",
      "metadata": {
        "id": "c84bd701",
        "outputId": "38a87f13-1039-4319-d646-24d65f118431"
      },
      "outputs": [
        {
          "data": {
            "text/plain": [
              "(576, 2)"
            ]
          },
          "execution_count": 38,
          "metadata": {},
          "output_type": "execute_result"
        }
      ],
      "source": [
        "x_train_pca.shape"
      ]
    },
    {
      "cell_type": "markdown",
      "id": "e1f2ad44",
      "metadata": {
        "id": "e1f2ad44"
      },
      "source": [
        "## Step 9 : Print the explained_variance and its sum."
      ]
    },
    {
      "cell_type": "code",
      "execution_count": null,
      "id": "870bb9c2",
      "metadata": {
        "id": "870bb9c2",
        "outputId": "c79dc3d8-b741-4d7b-d2cb-6243de4a325c"
      },
      "outputs": [
        {
          "name": "stdout",
          "output_type": "stream",
          "text": [
            "Explained Variance:  [2.11380379 1.70881928]\n"
          ]
        }
      ],
      "source": [
        "# Print the explained variance of each principal component\n",
        "print(\"Explained Variance: \", pca.explained_variance_)"
      ]
    },
    {
      "cell_type": "code",
      "execution_count": null,
      "id": "3f147df1",
      "metadata": {
        "id": "3f147df1",
        "outputId": "ed28bf00-86b8-4aec-ad4f-bb55464c3d8a"
      },
      "outputs": [
        {
          "name": "stdout",
          "output_type": "stream",
          "text": [
            "Sum of Explained Variance:  3.8226230734993427\n"
          ]
        }
      ],
      "source": [
        "# Print the sum of the explained variance\n",
        "print(\"Sum of Explained Variance: \", pca.explained_variance_.sum())"
      ]
    },
    {
      "cell_type": "markdown",
      "id": "2cd5246c",
      "metadata": {
        "id": "2cd5246c"
      },
      "source": [
        "## Step 10 : Apply Random Forest to the new d-dimensional dataset and find the confusion matrix and the accuracy"
      ]
    },
    {
      "cell_type": "code",
      "execution_count": null,
      "id": "493f1388",
      "metadata": {
        "id": "493f1388",
        "outputId": "7e58bbf8-c846-45f0-c7a7-cbaad2258a3c"
      },
      "outputs": [
        {
          "name": "stdout",
          "output_type": "stream",
          "text": [
            "Confusion Matrix: \n",
            " [[111  27]\n",
            " [ 35  19]]\n",
            "Accuracy:  0.6770833333333334\n"
          ]
        },
        {
          "name": "stderr",
          "output_type": "stream",
          "text": [
            "c:\\users\\katha\\appdata\\local\\programs\\python\\python37\\lib\\site-packages\\sklearn\\base.py:444: UserWarning: X has feature names, but PCA was fitted without feature names\n",
            "  f\"X has feature names, but {self.__class__.__name__} was fitted without\"\n",
            "c:\\users\\katha\\appdata\\local\\programs\\python\\python37\\lib\\site-packages\\ipykernel_launcher.py:9: DataConversionWarning: A column-vector y was passed when a 1d array was expected. Please change the shape of y to (n_samples,), for example using ravel().\n",
            "  if __name__ == \"__main__\":\n"
          ]
        }
      ],
      "source": [
        "# Create a Random Forest classifier\n",
        "clf = RandomForestClassifier()\n",
        "\n",
        "# Reduce the dimensionality of the dataset to d principal components\n",
        "X_pca = pca.transform(X)\n",
        "x_train_pca, x_test_pca, y_train, y_test = train_test_split(X_pca, y, test_size=0.25)\n",
        "\n",
        "# Fit the model on the new d-dimensional dataset\n",
        "clf.fit(x_train_pca, y_train)\n",
        "\n",
        "# Predict the class for the test set\n",
        "y_pred1 = clf.predict(x_test_pca)\n",
        "\n",
        "# Record the confusion matrix and accuracy\n",
        "conf_matrix = confusion_matrix(y_test, y_pred1)\n",
        "acc1 = accuracy_score(y_test, y_pred1)\n",
        "print(\"Confusion Matrix: \\n\", conf_matrix)\n",
        "print(\"Accuracy: \", acc1)\n"
      ]
    },
    {
      "cell_type": "code",
      "execution_count": null,
      "id": "af71a383",
      "metadata": {
        "id": "af71a383",
        "outputId": "c05da0aa-a4e8-426c-d461-947d7be2a595"
      },
      "outputs": [
        {
          "data": {
            "image/png": "[encoded data removed]",
            "text/plain": [
              "<Figure size 432x288 with 2 Axes>"
            ]
          },
          "metadata": {
            "needs_background": "light"
          },
          "output_type": "display_data"
        }
      ],
      "source": [
        "# Create a heatmap of the confusion matrix\n",
        "sns.heatmap(conf_matrix, annot=True, fmt='d', cmap='Blues')\n",
        "\n",
        "# Add labels for the x and y axis\n",
        "plt.xlabel('Predicted')\n",
        "plt.ylabel('True')\n",
        "\n",
        "# Display the plot\n",
        "plt.show()\n"
      ]
    },
    {
      "cell_type": "markdown",
      "id": "80ea88f1",
      "metadata": {
        "id": "80ea88f1"
      },
      "source": [
        "###  getting improved accuracy and getting different one for each trail... will show in demo."
      ]
    },
    {
      "cell_type": "markdown",
      "id": "14cb9f72",
      "metadata": {
        "id": "14cb9f72"
      },
      "source": [
        "## Step 11: Print Confusion matrix before and after applying PCA"
      ]
    },
    {
      "cell_type": "markdown",
      "id": "3c049fc3",
      "metadata": {
        "id": "3c049fc3"
      },
      "source": [
        "### I copied the same code for confusion matrix without PCA that used before..."
      ]
    },
    {
      "cell_type": "code",
      "execution_count": null,
      "id": "27daa1aa",
      "metadata": {
        "id": "27daa1aa",
        "outputId": "aee849b5-5dea-4b11-bd22-3b02ba3f8e9a"
      },
      "outputs": [
        {
          "data": {
            "image/png": "[encoded data removed]",
            "text/plain": [
              "<Figure size 432x288 with 2 Axes>"
            ]
          },
          "metadata": {
            "needs_background": "light"
          },
          "output_type": "display_data"
        }
      ],
      "source": [
        "# Create a heatmap of the confusion matrix\n",
        "sns.heatmap(conf_mat, annot=True, fmt='d', cmap='Blues')\n",
        "\n",
        "# Add labels for the x and y axis\n",
        "plt.xlabel('Predicted')\n",
        "plt.ylabel('True')\n",
        "\n",
        "# Display the plot\n",
        "plt.show()"
      ]
    },
    {
      "cell_type": "markdown",
      "id": "f5113d67",
      "metadata": {
        "id": "f5113d67"
      },
      "source": [
        "###  Its Without PCA"
      ]
    },
    {
      "cell_type": "markdown",
      "id": "5e706796",
      "metadata": {
        "id": "5e706796"
      },
      "source": [
        "## Step 12: Print accuracies before and after applying PCA."
      ]
    },
    {
      "cell_type": "code",
      "execution_count": null,
      "id": "77525beb",
      "metadata": {
        "id": "77525beb",
        "outputId": "110c18b8-cc1a-4cf0-bd9e-d6803d68f5c1"
      },
      "outputs": [
        {
          "name": "stdout",
          "output_type": "stream",
          "text": [
            "0.5677083333333334\n"
          ]
        }
      ],
      "source": [
        "#Accuracy without PCA\n",
        "acc = accuracy_score(y_test, y_pred)\n",
        "print(acc)"
      ]
    },
    {
      "cell_type": "code",
      "execution_count": null,
      "id": "99987e4f",
      "metadata": {
        "id": "99987e4f",
        "outputId": "34714acf-1493-4baf-a494-2c0f85284494"
      },
      "outputs": [
        {
          "name": "stdout",
          "output_type": "stream",
          "text": [
            "0.6770833333333334\n"
          ]
        }
      ],
      "source": [
        "# Accuracy with PCA\n",
        "acc1 = accuracy_score(y_test, y_pred1)\n",
        "print(acc1)"
      ]
    },
    {
      "cell_type": "markdown",
      "id": "190dec45",
      "metadata": {
        "id": "190dec45"
      },
      "source": [
        "# And its done😁"
      ]
    }
  ],
  "metadata": {
    "kernelspec": {
      "display_name": "Python 3 (ipykernel)",
      "language": "python",
      "name": "python3"
    },
    "language_info": {
      "codemirror_mode": {
        "name": "ipython",
        "version": 3
      },
      "file_extension": ".py",
      "mimetype": "text/x-python",
      "name": "python",
      "nbconvert_exporter": "python",
      "pygments_lexer": "ipython3",
      "version": "3.7.9"
    },
    "colab": {
      "provenance": [],
      "include_colab_link": true
    }
  },
  "nbformat": 4,
  "nbformat_minor": 5
}