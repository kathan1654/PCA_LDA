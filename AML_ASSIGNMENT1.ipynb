{
 "cells": [
  {
   "cell_type": "markdown",
   "id": "70c59d76",
   "metadata": {},
   "source": [
    "## Loading Breast Cancer Diagnosis dataset "
   ]
  },
  {
   "cell_type": "code",
   "execution_count": 1,
   "id": "3b7a4b9a",
   "metadata": {},
   "outputs": [],
   "source": [
    "import numpy as np\n",
    "import pandas as pd\n",
    "\n",
    "\n",
    "df = pd.read_csv(r\"C:\\Users\\katha\\OneDrive\\Documents\\AML_LABS\\Assignment_1\\wdbc.csv\")"
   ]
  },
  {
   "cell_type": "code",
   "execution_count": 2,
   "id": "bf02e20f",
   "metadata": {},
   "outputs": [],
   "source": [
    "BCR = pd.DataFrame(df)"
   ]
  },
  {
   "cell_type": "code",
   "execution_count": 3,
   "id": "74c4863a",
   "metadata": {},
   "outputs": [
    {
     "data": {
      "text/html": [
       "<div>\n",
       "<style scoped>\n",
       "    .dataframe tbody tr th:only-of-type {\n",
       "        vertical-align: middle;\n",
       "    }\n",
       "\n",
       "    .dataframe tbody tr th {\n",
       "        vertical-align: top;\n",
       "    }\n",
       "\n",
       "    .dataframe thead th {\n",
       "        text-align: right;\n",
       "    }\n",
       "</style>\n",
       "<table border=\"1\" class=\"dataframe\">\n",
       "  <thead>\n",
       "    <tr style=\"text-align: right;\">\n",
       "      <th></th>\n",
       "      <th>Diagnosis</th>\n",
       "      <th>radius</th>\n",
       "      <th>texture</th>\n",
       "      <th>perimeter</th>\n",
       "      <th>area</th>\n",
       "      <th>smoothness</th>\n",
       "      <th>compactness</th>\n",
       "      <th>concavity</th>\n",
       "      <th>concave_points</th>\n",
       "      <th>symmetry</th>\n",
       "      <th>...</th>\n",
       "      <th>W_radius</th>\n",
       "      <th>W_texture</th>\n",
       "      <th>W_perimeter</th>\n",
       "      <th>W_area</th>\n",
       "      <th>W_smoothness</th>\n",
       "      <th>W_compactness</th>\n",
       "      <th>W_concavity</th>\n",
       "      <th>W_concave_points</th>\n",
       "      <th>W_symmetry</th>\n",
       "      <th>W_fractal_dimension</th>\n",
       "    </tr>\n",
       "  </thead>\n",
       "  <tbody>\n",
       "    <tr>\n",
       "      <th>0</th>\n",
       "      <td>M</td>\n",
       "      <td>17.99</td>\n",
       "      <td>10.38</td>\n",
       "      <td>122.80</td>\n",
       "      <td>1001.0</td>\n",
       "      <td>0.11840</td>\n",
       "      <td>0.27760</td>\n",
       "      <td>0.3001</td>\n",
       "      <td>0.14710</td>\n",
       "      <td>0.2419</td>\n",
       "      <td>...</td>\n",
       "      <td>25.38</td>\n",
       "      <td>17.33</td>\n",
       "      <td>184.60</td>\n",
       "      <td>2019.0</td>\n",
       "      <td>0.1622</td>\n",
       "      <td>0.6656</td>\n",
       "      <td>0.7119</td>\n",
       "      <td>0.2654</td>\n",
       "      <td>0.4601</td>\n",
       "      <td>0.11890</td>\n",
       "    </tr>\n",
       "    <tr>\n",
       "      <th>1</th>\n",
       "      <td>M</td>\n",
       "      <td>20.57</td>\n",
       "      <td>17.77</td>\n",
       "      <td>132.90</td>\n",
       "      <td>1326.0</td>\n",
       "      <td>0.08474</td>\n",
       "      <td>0.07864</td>\n",
       "      <td>0.0869</td>\n",
       "      <td>0.07017</td>\n",
       "      <td>0.1812</td>\n",
       "      <td>...</td>\n",
       "      <td>24.99</td>\n",
       "      <td>23.41</td>\n",
       "      <td>158.80</td>\n",
       "      <td>1956.0</td>\n",
       "      <td>0.1238</td>\n",
       "      <td>0.1866</td>\n",
       "      <td>0.2416</td>\n",
       "      <td>0.1860</td>\n",
       "      <td>0.2750</td>\n",
       "      <td>0.08902</td>\n",
       "    </tr>\n",
       "    <tr>\n",
       "      <th>2</th>\n",
       "      <td>M</td>\n",
       "      <td>19.69</td>\n",
       "      <td>21.25</td>\n",
       "      <td>130.00</td>\n",
       "      <td>1203.0</td>\n",
       "      <td>0.10960</td>\n",
       "      <td>0.15990</td>\n",
       "      <td>0.1974</td>\n",
       "      <td>0.12790</td>\n",
       "      <td>0.2069</td>\n",
       "      <td>...</td>\n",
       "      <td>23.57</td>\n",
       "      <td>25.53</td>\n",
       "      <td>152.50</td>\n",
       "      <td>1709.0</td>\n",
       "      <td>0.1444</td>\n",
       "      <td>0.4245</td>\n",
       "      <td>0.4504</td>\n",
       "      <td>0.2430</td>\n",
       "      <td>0.3613</td>\n",
       "      <td>0.08758</td>\n",
       "    </tr>\n",
       "    <tr>\n",
       "      <th>3</th>\n",
       "      <td>M</td>\n",
       "      <td>11.42</td>\n",
       "      <td>20.38</td>\n",
       "      <td>77.58</td>\n",
       "      <td>386.1</td>\n",
       "      <td>0.14250</td>\n",
       "      <td>0.28390</td>\n",
       "      <td>0.2414</td>\n",
       "      <td>0.10520</td>\n",
       "      <td>0.2597</td>\n",
       "      <td>...</td>\n",
       "      <td>14.91</td>\n",
       "      <td>26.50</td>\n",
       "      <td>98.87</td>\n",
       "      <td>567.7</td>\n",
       "      <td>0.2098</td>\n",
       "      <td>0.8663</td>\n",
       "      <td>0.6869</td>\n",
       "      <td>0.2575</td>\n",
       "      <td>0.6638</td>\n",
       "      <td>0.17300</td>\n",
       "    </tr>\n",
       "    <tr>\n",
       "      <th>4</th>\n",
       "      <td>M</td>\n",
       "      <td>20.29</td>\n",
       "      <td>14.34</td>\n",
       "      <td>135.10</td>\n",
       "      <td>1297.0</td>\n",
       "      <td>0.10030</td>\n",
       "      <td>0.13280</td>\n",
       "      <td>0.1980</td>\n",
       "      <td>0.10430</td>\n",
       "      <td>0.1809</td>\n",
       "      <td>...</td>\n",
       "      <td>22.54</td>\n",
       "      <td>16.67</td>\n",
       "      <td>152.20</td>\n",
       "      <td>1575.0</td>\n",
       "      <td>0.1374</td>\n",
       "      <td>0.2050</td>\n",
       "      <td>0.4000</td>\n",
       "      <td>0.1625</td>\n",
       "      <td>0.2364</td>\n",
       "      <td>0.07678</td>\n",
       "    </tr>\n",
       "  </tbody>\n",
       "</table>\n",
       "<p>5 rows × 31 columns</p>\n",
       "</div>"
      ],
      "text/plain": [
       "  Diagnosis  radius  texture  perimeter    area  smoothness  compactness  \\\n",
       "0         M   17.99    10.38     122.80  1001.0     0.11840      0.27760   \n",
       "1         M   20.57    17.77     132.90  1326.0     0.08474      0.07864   \n",
       "2         M   19.69    21.25     130.00  1203.0     0.10960      0.15990   \n",
       "3         M   11.42    20.38      77.58   386.1     0.14250      0.28390   \n",
       "4         M   20.29    14.34     135.10  1297.0     0.10030      0.13280   \n",
       "\n",
       "   concavity  concave_points  symmetry  ...  W_radius  W_texture  W_perimeter  \\\n",
       "0     0.3001         0.14710    0.2419  ...     25.38      17.33       184.60   \n",
       "1     0.0869         0.07017    0.1812  ...     24.99      23.41       158.80   \n",
       "2     0.1974         0.12790    0.2069  ...     23.57      25.53       152.50   \n",
       "3     0.2414         0.10520    0.2597  ...     14.91      26.50        98.87   \n",
       "4     0.1980         0.10430    0.1809  ...     22.54      16.67       152.20   \n",
       "\n",
       "   W_area  W_smoothness  W_compactness  W_concavity  W_concave_points  \\\n",
       "0  2019.0        0.1622         0.6656       0.7119            0.2654   \n",
       "1  1956.0        0.1238         0.1866       0.2416            0.1860   \n",
       "2  1709.0        0.1444         0.4245       0.4504            0.2430   \n",
       "3   567.7        0.2098         0.8663       0.6869            0.2575   \n",
       "4  1575.0        0.1374         0.2050       0.4000            0.1625   \n",
       "\n",
       "   W_symmetry  W_fractal_dimension  \n",
       "0      0.4601              0.11890  \n",
       "1      0.2750              0.08902  \n",
       "2      0.3613              0.08758  \n",
       "3      0.6638              0.17300  \n",
       "4      0.2364              0.07678  \n",
       "\n",
       "[5 rows x 31 columns]"
      ]
     },
     "execution_count": 3,
     "metadata": {},
     "output_type": "execute_result"
    }
   ],
   "source": [
    "BCR.head()"
   ]
  },
  {
   "cell_type": "code",
   "execution_count": 4,
   "id": "301536d6",
   "metadata": {},
   "outputs": [
    {
     "name": "stdout",
     "output_type": "stream",
     "text": [
      "<class 'pandas.core.frame.DataFrame'>\n",
      "RangeIndex: 569 entries, 0 to 568\n",
      "Data columns (total 31 columns):\n",
      " #   Column                Non-Null Count  Dtype  \n",
      "---  ------                --------------  -----  \n",
      " 0   Diagnosis             569 non-null    object \n",
      " 1   radius                569 non-null    float64\n",
      " 2   texture               569 non-null    float64\n",
      " 3   perimeter             569 non-null    float64\n",
      " 4   area                  569 non-null    float64\n",
      " 5   smoothness            569 non-null    float64\n",
      " 6   compactness           569 non-null    float64\n",
      " 7   concavity             569 non-null    float64\n",
      " 8   concave_points        569 non-null    float64\n",
      " 9   symmetry              569 non-null    float64\n",
      " 10  fractal_dimension     569 non-null    float64\n",
      " 11  radius_SE             569 non-null    float64\n",
      " 12  texture_SE            569 non-null    float64\n",
      " 13  perimeter_SE          569 non-null    float64\n",
      " 14  area_SE               569 non-null    float64\n",
      " 15  smoothness_SE         569 non-null    float64\n",
      " 16  compactness_SE        569 non-null    float64\n",
      " 17  concavity_SE          569 non-null    float64\n",
      " 18  concave_points_SE     569 non-null    float64\n",
      " 19  symmetry_SE           569 non-null    float64\n",
      " 20  fractal_dimension_SE  569 non-null    float64\n",
      " 21  W_radius              569 non-null    float64\n",
      " 22  W_texture             569 non-null    float64\n",
      " 23  W_perimeter           569 non-null    float64\n",
      " 24  W_area                569 non-null    float64\n",
      " 25  W_smoothness          569 non-null    float64\n",
      " 26  W_compactness         569 non-null    float64\n",
      " 27  W_concavity           569 non-null    float64\n",
      " 28  W_concave_points      569 non-null    float64\n",
      " 29  W_symmetry            569 non-null    float64\n",
      " 30  W_fractal_dimension   569 non-null    float64\n",
      "dtypes: float64(30), object(1)\n",
      "memory usage: 137.9+ KB\n"
     ]
    }
   ],
   "source": [
    "BCR.info()"
   ]
  },
  {
   "cell_type": "code",
   "execution_count": 5,
   "id": "37ec31bf",
   "metadata": {},
   "outputs": [
    {
     "data": {
      "text/plain": [
       "Index(['Diagnosis', 'radius', 'texture', 'perimeter', 'area', 'smoothness',\n",
       "       'compactness', 'concavity', 'concave_points', 'symmetry',\n",
       "       'fractal_dimension', 'radius_SE', 'texture_SE', 'perimeter_SE',\n",
       "       'area_SE', 'smoothness_SE', 'compactness_SE', 'concavity_SE',\n",
       "       'concave_points_SE', 'symmetry_SE', 'fractal_dimension_SE', 'W_radius',\n",
       "       'W_texture', 'W_perimeter', 'W_area', 'W_smoothness', 'W_compactness',\n",
       "       'W_concavity', 'W_concave_points', 'W_symmetry', 'W_fractal_dimension'],\n",
       "      dtype='object')"
      ]
     },
     "execution_count": 5,
     "metadata": {},
     "output_type": "execute_result"
    }
   ],
   "source": [
    "BCR.keys()"
   ]
  },
  {
   "cell_type": "markdown",
   "id": "a70e414f",
   "metadata": {},
   "source": [
    "## Spliting the dataset into train and test set (MAIN DATASET)"
   ]
  },
  {
   "cell_type": "code",
   "execution_count": 6,
   "id": "0062d95f",
   "metadata": {},
   "outputs": [],
   "source": [
    "import matplotlib.pyplot as plt\n",
    "from sklearn.model_selection import train_test_split"
   ]
  },
  {
   "cell_type": "code",
   "execution_count": 7,
   "id": "451ec54b",
   "metadata": {},
   "outputs": [],
   "source": [
    "X = BCR[[ 'radius', 'texture', 'perimeter', 'area', 'smoothness',\n",
    "       'compactness', 'concavity', 'concave_points', 'symmetry',\n",
    "       'fractal_dimension', 'radius_SE', 'texture_SE', 'perimeter_SE',\n",
    "       'area_SE', 'smoothness_SE', 'compactness_SE', 'concavity_SE',\n",
    "       'concave_points_SE', 'symmetry_SE', 'fractal_dimension_SE', 'W_radius',\n",
    "       'W_texture', 'W_perimeter', 'W_area', 'W_smoothness', 'W_compactness',\n",
    "       'W_concavity', 'W_concave_points', 'W_symmetry', 'W_fractal_dimension']]"
   ]
  },
  {
   "cell_type": "code",
   "execution_count": 8,
   "id": "17a59e6c",
   "metadata": {},
   "outputs": [],
   "source": [
    "y = BCR['Diagnosis']"
   ]
  },
  {
   "cell_type": "code",
   "execution_count": 9,
   "id": "75ef2224",
   "metadata": {},
   "outputs": [],
   "source": [
    "X = pd.DataFrame(X)"
   ]
  },
  {
   "cell_type": "code",
   "execution_count": 10,
   "id": "a2dcecdb",
   "metadata": {},
   "outputs": [],
   "source": [
    "y = pd.DataFrame(y)"
   ]
  },
  {
   "cell_type": "code",
   "execution_count": 11,
   "id": "f0e771a7",
   "metadata": {},
   "outputs": [],
   "source": [
    "X_train, X_test, y_train, y_test = train_test_split(X, y, random_state=0, train_size = 0.75)"
   ]
  },
  {
   "cell_type": "code",
   "execution_count": 77,
   "id": "31329a75",
   "metadata": {},
   "outputs": [
    {
     "name": "stdout",
     "output_type": "stream",
     "text": [
      "<class 'pandas.core.frame.DataFrame'>\n",
      "Int64Index: 426 entries, 293 to 559\n",
      "Data columns (total 30 columns):\n",
      " #   Column                Non-Null Count  Dtype  \n",
      "---  ------                --------------  -----  \n",
      " 0   radius                426 non-null    float64\n",
      " 1   texture               426 non-null    float64\n",
      " 2   perimeter             426 non-null    float64\n",
      " 3   area                  426 non-null    float64\n",
      " 4   smoothness            426 non-null    float64\n",
      " 5   compactness           426 non-null    float64\n",
      " 6   concavity             426 non-null    float64\n",
      " 7   concave_points        426 non-null    float64\n",
      " 8   symmetry              426 non-null    float64\n",
      " 9   fractal_dimension     426 non-null    float64\n",
      " 10  radius_SE             426 non-null    float64\n",
      " 11  texture_SE            426 non-null    float64\n",
      " 12  perimeter_SE          426 non-null    float64\n",
      " 13  area_SE               426 non-null    float64\n",
      " 14  smoothness_SE         426 non-null    float64\n",
      " 15  compactness_SE        426 non-null    float64\n",
      " 16  concavity_SE          426 non-null    float64\n",
      " 17  concave_points_SE     426 non-null    float64\n",
      " 18  symmetry_SE           426 non-null    float64\n",
      " 19  fractal_dimension_SE  426 non-null    float64\n",
      " 20  W_radius              426 non-null    float64\n",
      " 21  W_texture             426 non-null    float64\n",
      " 22  W_perimeter           426 non-null    float64\n",
      " 23  W_area                426 non-null    float64\n",
      " 24  W_smoothness          426 non-null    float64\n",
      " 25  W_compactness         426 non-null    float64\n",
      " 26  W_concavity           426 non-null    float64\n",
      " 27  W_concave_points      426 non-null    float64\n",
      " 28  W_symmetry            426 non-null    float64\n",
      " 29  W_fractal_dimension   426 non-null    float64\n",
      "dtypes: float64(30)\n",
      "memory usage: 103.2 KB\n"
     ]
    }
   ],
   "source": [
    "X_train.info()"
   ]
  },
  {
   "cell_type": "code",
   "execution_count": 79,
   "id": "cda54c3b",
   "metadata": {},
   "outputs": [
    {
     "name": "stdout",
     "output_type": "stream",
     "text": [
      "<class 'pandas.core.frame.DataFrame'>\n",
      "Int64Index: 143 entries, 512 to 162\n",
      "Data columns (total 30 columns):\n",
      " #   Column                Non-Null Count  Dtype  \n",
      "---  ------                --------------  -----  \n",
      " 0   radius                143 non-null    float64\n",
      " 1   texture               143 non-null    float64\n",
      " 2   perimeter             143 non-null    float64\n",
      " 3   area                  143 non-null    float64\n",
      " 4   smoothness            143 non-null    float64\n",
      " 5   compactness           143 non-null    float64\n",
      " 6   concavity             143 non-null    float64\n",
      " 7   concave_points        143 non-null    float64\n",
      " 8   symmetry              143 non-null    float64\n",
      " 9   fractal_dimension     143 non-null    float64\n",
      " 10  radius_SE             143 non-null    float64\n",
      " 11  texture_SE            143 non-null    float64\n",
      " 12  perimeter_SE          143 non-null    float64\n",
      " 13  area_SE               143 non-null    float64\n",
      " 14  smoothness_SE         143 non-null    float64\n",
      " 15  compactness_SE        143 non-null    float64\n",
      " 16  concavity_SE          143 non-null    float64\n",
      " 17  concave_points_SE     143 non-null    float64\n",
      " 18  symmetry_SE           143 non-null    float64\n",
      " 19  fractal_dimension_SE  143 non-null    float64\n",
      " 20  W_radius              143 non-null    float64\n",
      " 21  W_texture             143 non-null    float64\n",
      " 22  W_perimeter           143 non-null    float64\n",
      " 23  W_area                143 non-null    float64\n",
      " 24  W_smoothness          143 non-null    float64\n",
      " 25  W_compactness         143 non-null    float64\n",
      " 26  W_concavity           143 non-null    float64\n",
      " 27  W_concave_points      143 non-null    float64\n",
      " 28  W_symmetry            143 non-null    float64\n",
      " 29  W_fractal_dimension   143 non-null    float64\n",
      "dtypes: float64(30)\n",
      "memory usage: 34.6 KB\n"
     ]
    }
   ],
   "source": [
    "X_test.info()"
   ]
  },
  {
   "cell_type": "markdown",
   "id": "4c438c06",
   "metadata": {},
   "source": [
    "## standerdize the data(STILL THE MAIN DATASET)"
   ]
  },
  {
   "cell_type": "code",
   "execution_count": 14,
   "id": "8ec252ea",
   "metadata": {},
   "outputs": [],
   "source": [
    "#Now standerdize the value tp make them between o to 1 \n",
    "#using standard scaler or minmax scaler\n",
    "#from sklearn.preprocessing import MinMaxScaler\n",
    "#however i am gonna use standard scaler\n",
    "from sklearn.preprocessing import StandardScaler"
   ]
  },
  {
   "cell_type": "code",
   "execution_count": 15,
   "id": "9ff41194",
   "metadata": {},
   "outputs": [
    {
     "data": {
      "text/plain": [
       "StandardScaler()"
      ]
     },
     "execution_count": 15,
     "metadata": {},
     "output_type": "execute_result"
    }
   ],
   "source": [
    "#first fit then transform train data\n",
    "scaler=StandardScaler()\n",
    "scaler.fit(X_train)"
   ]
  },
  {
   "cell_type": "code",
   "execution_count": 16,
   "id": "e106d3c4",
   "metadata": {},
   "outputs": [],
   "source": [
    "scaled_train_data=scaler.transform(X_train)"
   ]
  },
  {
   "cell_type": "code",
   "execution_count": 17,
   "id": "519d01f5",
   "metadata": {},
   "outputs": [
    {
     "data": {
      "text/plain": [
       "array([[-0.65079907, -0.43057322, -0.68024847, ..., -0.36433881,\n",
       "         0.32349851, -0.7578486 ],\n",
       "       [-0.82835341,  0.15226547, -0.82773762, ..., -1.45036679,\n",
       "         0.62563098, -1.03071387],\n",
       "       [ 1.68277234,  2.18977235,  1.60009756, ...,  0.72504581,\n",
       "        -0.51329768, -0.96601386],\n",
       "       ...,\n",
       "       [-1.33114223, -0.22172269, -1.3242844 , ..., -0.98806491,\n",
       "        -0.69995543, -0.12266325],\n",
       "       [-1.25110186, -0.24600763, -1.28700242, ..., -1.75887319,\n",
       "        -1.56206114, -1.00989735],\n",
       "       [-0.74662205,  1.14066273, -0.72203706, ..., -0.2860679 ,\n",
       "        -1.24094654,  0.2126516 ]])"
      ]
     },
     "execution_count": 17,
     "metadata": {},
     "output_type": "execute_result"
    }
   ],
   "source": [
    "scaled_train_data"
   ]
  },
  {
   "cell_type": "code",
   "execution_count": 18,
   "id": "6626bf94",
   "metadata": {},
   "outputs": [
    {
     "data": {
      "text/plain": [
       "StandardScaler()"
      ]
     },
     "execution_count": 18,
     "metadata": {},
     "output_type": "execute_result"
    }
   ],
   "source": [
    "#fit then transform test data\n",
    "scaler.fit(X_test)"
   ]
  },
  {
   "cell_type": "code",
   "execution_count": 19,
   "id": "810c122b",
   "metadata": {},
   "outputs": [],
   "source": [
    "scaled_test_data=scaler.transform(X_test)"
   ]
  },
  {
   "cell_type": "code",
   "execution_count": 20,
   "id": "2b2e0df6",
   "metadata": {},
   "outputs": [
    {
     "data": {
      "text/plain": [
       "array([[-0.1839902 ,  0.22170989, -0.11761404, ...,  1.40089716,\n",
       "         1.16977773,  1.37108056],\n",
       "       [-0.23927557,  1.20953909, -0.30776593, ..., -0.79588429,\n",
       "        -0.81775175, -0.91991041],\n",
       "       [-0.00358531, -0.79326895, -0.07782455, ..., -0.46102846,\n",
       "        -1.35426278, -0.9614486 ],\n",
       "       ...,\n",
       "       [-0.49242436, -1.50124802, -0.52388569, ..., -0.0848268 ,\n",
       "         0.34236625, -0.49174753],\n",
       "       [-0.14616337, -1.77900972, -0.14818913, ..., -0.58355147,\n",
       "        -0.35440132, -0.70529643],\n",
       "       [ 1.61714893, -0.27324893,  1.6440133 , ...,  1.69773906,\n",
       "         1.27080903,  0.37682669]])"
      ]
     },
     "execution_count": 20,
     "metadata": {},
     "output_type": "execute_result"
    }
   ],
   "source": [
    "scaled_test_data"
   ]
  },
  {
   "cell_type": "markdown",
   "id": "fb9651c5",
   "metadata": {},
   "source": [
    "## Apply PCA to find the principal components (fit and transform the train set and test set)"
   ]
  },
  {
   "cell_type": "code",
   "execution_count": 21,
   "id": "40048364",
   "metadata": {},
   "outputs": [],
   "source": [
    "# import PCA from sklearn.decomposiotion\n",
    "from sklearn.decomposition import PCA"
   ]
  },
  {
   "cell_type": "code",
   "execution_count": 22,
   "id": "98fc6260",
   "metadata": {},
   "outputs": [],
   "source": [
    "#define how many of dimention you want\n",
    "pca=PCA(n_components=11)"
   ]
  },
  {
   "cell_type": "code",
   "execution_count": 23,
   "id": "d8fb3d95",
   "metadata": {},
   "outputs": [
    {
     "data": {
      "text/plain": [
       "PCA(n_components=11)"
      ]
     },
     "execution_count": 23,
     "metadata": {},
     "output_type": "execute_result"
    }
   ],
   "source": [
    "#again fit and transform the scaled data\n",
    "pca.fit(scaled_train_data)"
   ]
  },
  {
   "cell_type": "code",
   "execution_count": 24,
   "id": "087a9010",
   "metadata": {},
   "outputs": [],
   "source": [
    "x_train_pca=pca.transform(scaled_train_data)"
   ]
  },
  {
   "cell_type": "code",
   "execution_count": 25,
   "id": "26e4551c",
   "metadata": {},
   "outputs": [],
   "source": [
    "# do the same for test data\n",
    "#fit and transform test data\n",
    "pca.fit(scaled_test_data)\n",
    "x_test_pca=pca.transform(scaled_test_data)"
   ]
  },
  {
   "cell_type": "code",
   "execution_count": 26,
   "id": "84d9f935",
   "metadata": {},
   "outputs": [
    {
     "data": {
      "text/plain": [
       "(426, 30)"
      ]
     },
     "execution_count": 26,
     "metadata": {},
     "output_type": "execute_result"
    }
   ],
   "source": [
    "#check the dimensions\n",
    "scaled_train_data.shape"
   ]
  },
  {
   "cell_type": "code",
   "execution_count": 27,
   "id": "51395016",
   "metadata": {},
   "outputs": [
    {
     "data": {
      "text/plain": [
       "(426, 11)"
      ]
     },
     "execution_count": 27,
     "metadata": {},
     "output_type": "execute_result"
    }
   ],
   "source": [
    "x_train_pca.shape"
   ]
  },
  {
   "cell_type": "markdown",
   "id": "4cc191ad",
   "metadata": {},
   "source": [
    "## Generate Scree plot to find the best number of principal components (denote it as d)."
   ]
  },
  {
   "cell_type": "code",
   "execution_count": 28,
   "id": "e14f0850",
   "metadata": {},
   "outputs": [
    {
     "data": {
      "image/png": "[encoded data removed]",
      "text/plain": [
       "<Figure size 432x288 with 1 Axes>"
      ]
     },
     "metadata": {
      "needs_background": "light"
     },
     "output_type": "display_data"
    }
   ],
   "source": [
    "pca = PCA()\n",
    "pca.fit(scaled_train_data)\n",
    "\n",
    "# Generate the scree plot\n",
    "plt.plot(pca.explained_variance_ratio_)\n",
    "plt.xlabel('Number of Principal Components')\n",
    "plt.ylabel('Proportion of Variance Explained')\n",
    "plt.show()"
   ]
  },
  {
   "cell_type": "markdown",
   "id": "00365bd3",
   "metadata": {},
   "source": [
    "### I tried n = 7 to n = 14 to check which one gives the highest accuracy\n",
    "### where I found that n=11 gave the highest accuracy for all 3 models"
   ]
  },
  {
   "cell_type": "markdown",
   "id": "bc0ad599",
   "metadata": {},
   "source": [
    "### I will be putting n value in above mentioned pca code...No need to the same set of code again i guess"
   ]
  },
  {
   "cell_type": "markdown",
   "id": "4026c2b3",
   "metadata": {},
   "source": [
    "## This process is not the main dataset anymore...NOW ITS AFTER PCA"
   ]
  },
  {
   "cell_type": "code",
   "execution_count": 29,
   "id": "220648ee",
   "metadata": {},
   "outputs": [
    {
     "name": "stdout",
     "output_type": "stream",
     "text": [
      "Explained Variance:  [1.30251132e+01 5.88977769e+00 2.87793898e+00 2.00948748e+00\n",
      " 1.71733052e+00 1.20937017e+00 6.54512035e-01 4.48046127e-01\n",
      " 4.24150528e-01 3.53769922e-01 3.14136678e-01 2.68491949e-01\n",
      " 2.36184002e-01 1.50829501e-01 9.42179632e-02 7.97005702e-02\n",
      " 5.98234234e-02 5.06843953e-02 4.50058627e-02 3.18607690e-02\n",
      " 3.16091845e-02 2.56848104e-02 2.16897495e-02 1.80792225e-02\n",
      " 1.64569947e-02 7.82766598e-03 6.51424781e-03 1.41240170e-03\n",
      " 7.71745973e-04 1.10439880e-04]\n"
     ]
    }
   ],
   "source": [
    "# Print the explained variance of each principal component\n",
    "print(\"Explained Variance: \", pca.explained_variance_)"
   ]
  },
  {
   "cell_type": "code",
   "execution_count": 30,
   "id": "69604e30",
   "metadata": {},
   "outputs": [
    {
     "name": "stdout",
     "output_type": "stream",
     "text": [
      "Sum of Explained Variance:  30.07058823529412\n"
     ]
    }
   ],
   "source": [
    "# Print the sum of the explained variance\n",
    "print(\"Sum of Explained Variance: \", pca.explained_variance_.sum())"
   ]
  },
  {
   "cell_type": "markdown",
   "id": "62a2e181",
   "metadata": {},
   "source": [
    "# Let's start for LDA"
   ]
  },
  {
   "cell_type": "code",
   "execution_count": 31,
   "id": "795ec4c4",
   "metadata": {},
   "outputs": [],
   "source": [
    "#from sklearn.utils import column_or_1d\n",
    "#y_train = column_or_1d(y_train)\n",
    "#y_train = y_train.reshape(-1)"
   ]
  },
  {
   "cell_type": "code",
   "execution_count": 32,
   "id": "29fb0636",
   "metadata": {},
   "outputs": [
    {
     "name": "stderr",
     "output_type": "stream",
     "text": [
      "c:\\users\\katha\\appdata\\local\\programs\\python\\python37\\lib\\site-packages\\sklearn\\utils\\validation.py:993: DataConversionWarning: A column-vector y was passed when a 1d array was expected. Please change the shape of y to (n_samples, ), for example using ravel().\n",
      "  y = column_or_1d(y, warn=True)\n",
      "c:\\users\\katha\\appdata\\local\\programs\\python\\python37\\lib\\site-packages\\sklearn\\utils\\validation.py:993: DataConversionWarning: A column-vector y was passed when a 1d array was expected. Please change the shape of y to (n_samples, ), for example using ravel().\n",
      "  y = column_or_1d(y, warn=True)\n"
     ]
    }
   ],
   "source": [
    "from sklearn.discriminant_analysis import LinearDiscriminantAnalysis as LDA\n",
    "\n",
    "# Apply FDA to reduce dimensionality\n",
    "lda = LDA(n_components= 1)\n",
    "x_train_lda = lda.fit_transform(scaled_train_data , y_train)\n",
    "x_test_lda = lda.fit_transform(scaled_test_data , y_test)"
   ]
  },
  {
   "cell_type": "code",
   "execution_count": 33,
   "id": "dd1ed9b5",
   "metadata": {},
   "outputs": [
    {
     "data": {
      "text/plain": [
       "(426, 30)"
      ]
     },
     "execution_count": 33,
     "metadata": {},
     "output_type": "execute_result"
    }
   ],
   "source": [
    "#check the dimensions\n",
    "scaled_train_data.shape\n"
   ]
  },
  {
   "cell_type": "code",
   "execution_count": 34,
   "id": "5a633602",
   "metadata": {},
   "outputs": [
    {
     "data": {
      "text/plain": [
       "(426, 1)"
      ]
     },
     "execution_count": 34,
     "metadata": {},
     "output_type": "execute_result"
    }
   ],
   "source": [
    "x_train_lda.shape"
   ]
  },
  {
   "cell_type": "code",
   "execution_count": 35,
   "id": "690c5730",
   "metadata": {},
   "outputs": [
    {
     "data": {
      "text/plain": [
       "(143, 1)"
      ]
     },
     "execution_count": 35,
     "metadata": {},
     "output_type": "execute_result"
    }
   ],
   "source": [
    "x_test_lda.shape"
   ]
  },
  {
   "cell_type": "markdown",
   "id": "52622b28",
   "metadata": {},
   "source": [
    "## Preparation of dataset is done... Now let's start modelling using various algorithm"
   ]
  },
  {
   "cell_type": "markdown",
   "id": "7fb0b5ca",
   "metadata": {},
   "source": [
    "## 1) Random forest"
   ]
  },
  {
   "cell_type": "markdown",
   "id": "90a90b71",
   "metadata": {},
   "source": [
    "## (a) For Main scaled dataset"
   ]
  },
  {
   "cell_type": "code",
   "execution_count": 36,
   "id": "73eb4a67",
   "metadata": {},
   "outputs": [
    {
     "name": "stderr",
     "output_type": "stream",
     "text": [
      "c:\\users\\katha\\appdata\\local\\programs\\python\\python37\\lib\\site-packages\\ipykernel_launcher.py:8: DataConversionWarning: A column-vector y was passed when a 1d array was expected. Please change the shape of y to (n_samples,), for example using ravel().\n",
      "  \n"
     ]
    }
   ],
   "source": [
    "from sklearn.ensemble import RandomForestClassifier\n",
    "from sklearn.metrics import confusion_matrix, accuracy_score\n",
    "\n",
    "# Create an instance of the RandomForestClassifier\n",
    "clf = RandomForestClassifier()\n",
    "\n",
    "# Fit the classifier to the train data\n",
    "clf.fit(scaled_train_data, y_train)\n",
    "\n",
    "# Make predictions on the test data\n",
    "y_pred = clf.predict(scaled_test_data)"
   ]
  },
  {
   "cell_type": "code",
   "execution_count": 37,
   "id": "a29ca7b7",
   "metadata": {},
   "outputs": [
    {
     "name": "stdout",
     "output_type": "stream",
     "text": [
      "[[87  3]\n",
      " [ 1 52]]\n"
     ]
    }
   ],
   "source": [
    "# Calculate the confusion matrix\n",
    "conf_mat = confusion_matrix(y_test, y_pred)\n",
    "print(conf_mat)"
   ]
  },
  {
   "cell_type": "code",
   "execution_count": 38,
   "id": "230fe79a",
   "metadata": {},
   "outputs": [
    {
     "name": "stdout",
     "output_type": "stream",
     "text": [
      "0.972027972027972\n"
     ]
    }
   ],
   "source": [
    "# Calculate the accuracy\n",
    "acc = accuracy_score(y_test, y_pred)\n",
    "print(acc)"
   ]
  },
  {
   "cell_type": "code",
   "execution_count": 39,
   "id": "8c4994ab",
   "metadata": {},
   "outputs": [
    {
     "data": {
      "image/png": "[encoded data removed]",
      "text/plain": [
       "<Figure size 432x288 with 2 Axes>"
      ]
     },
     "metadata": {
      "needs_background": "light"
     },
     "output_type": "display_data"
    }
   ],
   "source": [
    "import seaborn as sns\n",
    "import matplotlib.pyplot as plt\n",
    "\n",
    "# Create a heatmap of the confusion matrix\n",
    "sns.heatmap(conf_mat, annot=True, fmt='d', cmap='Blues')\n",
    "\n",
    "# Add labels for the x and y axis\n",
    "plt.xlabel('Predicted')\n",
    "plt.ylabel('True')\n",
    "\n",
    "# Display the plot\n",
    "plt.show()"
   ]
  },
  {
   "cell_type": "markdown",
   "id": "20c2564e",
   "metadata": {},
   "source": [
    "## (b) For data after PCA"
   ]
  },
  {
   "cell_type": "code",
   "execution_count": 40,
   "id": "9246daa2",
   "metadata": {},
   "outputs": [
    {
     "name": "stderr",
     "output_type": "stream",
     "text": [
      "c:\\users\\katha\\appdata\\local\\programs\\python\\python37\\lib\\site-packages\\ipykernel_launcher.py:2: DataConversionWarning: A column-vector y was passed when a 1d array was expected. Please change the shape of y to (n_samples,), for example using ravel().\n",
      "  \n"
     ]
    },
    {
     "name": "stdout",
     "output_type": "stream",
     "text": [
      "Confusion Matrix: \n",
      " [[82  8]\n",
      " [ 4 49]]\n",
      "Accuracy:  0.916083916083916\n"
     ]
    }
   ],
   "source": [
    "# Fit the model on the new d-dimensional dataset\n",
    "clf.fit(x_train_pca, y_train)\n",
    "\n",
    "# Predict the class for the test set\n",
    "y_pred1 = clf.predict(x_test_pca)\n",
    "\n",
    "# Record the confusion matrix and accuracy\n",
    "conf_matrix = confusion_matrix(y_test, y_pred1)\n",
    "acc1 = accuracy_score(y_test, y_pred1)\n",
    "print(\"Confusion Matrix: \\n\", conf_matrix)\n",
    "print(\"Accuracy: \", acc1)"
   ]
  },
  {
   "cell_type": "code",
   "execution_count": 41,
   "id": "0fee9593",
   "metadata": {},
   "outputs": [
    {
     "data": {
      "image/png": "[encoded data removed]",
      "text/plain": [
       "<Figure size 432x288 with 2 Axes>"
      ]
     },
     "metadata": {
      "needs_background": "light"
     },
     "output_type": "display_data"
    }
   ],
   "source": [
    "# Create a heatmap of the confusion matrix\n",
    "sns.heatmap(conf_matrix, annot=True, fmt='d', cmap='Blues')\n",
    "\n",
    "# Add labels for the x and y axis\n",
    "plt.xlabel('Predicted')\n",
    "plt.ylabel('True')\n",
    "\n",
    "# Display the plot\n",
    "plt.show()"
   ]
  },
  {
   "cell_type": "markdown",
   "id": "137e85c4",
   "metadata": {},
   "source": [
    "## (c) Using LDA"
   ]
  },
  {
   "cell_type": "code",
   "execution_count": 42,
   "id": "1928096e",
   "metadata": {},
   "outputs": [
    {
     "name": "stderr",
     "output_type": "stream",
     "text": [
      "c:\\users\\katha\\appdata\\local\\programs\\python\\python37\\lib\\site-packages\\ipykernel_launcher.py:2: DataConversionWarning: A column-vector y was passed when a 1d array was expected. Please change the shape of y to (n_samples,), for example using ravel().\n",
      "  \n"
     ]
    },
    {
     "name": "stdout",
     "output_type": "stream",
     "text": [
      "Confusion Matrix: \n",
      " [[90  0]\n",
      " [ 2 51]]\n",
      "Accuracy:  0.986013986013986\n"
     ]
    }
   ],
   "source": [
    "# Fit the model on the new d-dimensional dataset\n",
    "clf.fit(x_train_lda, y_train)\n",
    "\n",
    "# Predict the class for the test set\n",
    "y_pred2 = clf.predict(x_test_lda)\n",
    "\n",
    "# Record the confusion matrix and accuracy\n",
    "conf_matrix1 = confusion_matrix(y_test, y_pred2)\n",
    "acc2 = accuracy_score(y_test, y_pred2)\n",
    "print(\"Confusion Matrix: \\n\", conf_matrix1)\n",
    "print(\"Accuracy: \", acc2)"
   ]
  },
  {
   "cell_type": "code",
   "execution_count": 43,
   "id": "2cbbd63b",
   "metadata": {},
   "outputs": [
    {
     "data": {
      "image/png": "[encoded data removed]",
      "text/plain": [
       "<Figure size 432x288 with 2 Axes>"
      ]
     },
     "metadata": {
      "needs_background": "light"
     },
     "output_type": "display_data"
    }
   ],
   "source": [
    "# Create a heatmap of the confusion matrix\n",
    "sns.heatmap(conf_matrix1, annot=True, fmt='d', cmap='Blues')\n",
    "\n",
    "# Add labels for the x and y axis\n",
    "plt.xlabel('Predicted')\n",
    "plt.ylabel('True')\n",
    "\n",
    "# Display the plot\n",
    "plt.show()"
   ]
  },
  {
   "cell_type": "markdown",
   "id": "f6d1b8bf",
   "metadata": {},
   "source": [
    "## 2) MLP : Multilayer Perceptron"
   ]
  },
  {
   "cell_type": "markdown",
   "id": "17bf903e",
   "metadata": {},
   "source": [
    "## (a) Using Main scaled dataset"
   ]
  },
  {
   "cell_type": "code",
   "execution_count": 44,
   "id": "0c527dd5",
   "metadata": {},
   "outputs": [],
   "source": [
    "#from sklearn.preprocessing import OneHotEncoder\n",
    "\n",
    "# Initialize the encoder\n",
    "#enc = OneHotEncoder()\n",
    "\n",
    "# Fit the encoder to the training data\n",
    "#enc.fit(y_train)\n",
    "\n",
    "# Transform the training and test data\n",
    "#y_train_class_encoded = enc.transform(y_train)\n",
    "#y_test_class_encoded = enc.transform(y_test)\n"
   ]
  },
  {
   "cell_type": "code",
   "execution_count": 45,
   "id": "3697d171",
   "metadata": {},
   "outputs": [
    {
     "name": "stdout",
     "output_type": "stream",
     "text": [
      "Iteration 1, loss = 0.48436242\n",
      "Iteration 2, loss = 0.20782512\n",
      "Iteration 3, loss = 0.13534659\n",
      "Iteration 4, loss = 0.11065838\n",
      "Iteration 5, loss = 0.09600371\n",
      "Iteration 6, loss = 0.08346778\n",
      "Iteration 7, loss = 0.07422493\n",
      "Iteration 8, loss = 0.07073460\n",
      "Iteration 9, loss = 0.06722612\n",
      "Iteration 10, loss = 0.06479166\n",
      "Accuracy: 0.958041958041958\n"
     ]
    },
    {
     "name": "stderr",
     "output_type": "stream",
     "text": [
      "c:\\users\\katha\\appdata\\local\\programs\\python\\python37\\lib\\site-packages\\sklearn\\neural_network\\_multilayer_perceptron.py:1109: DataConversionWarning: A column-vector y was passed when a 1d array was expected. Please change the shape of y to (n_samples, ), for example using ravel().\n",
      "  y = column_or_1d(y, warn=True)\n",
      "c:\\users\\katha\\appdata\\local\\programs\\python\\python37\\lib\\site-packages\\sklearn\\neural_network\\_multilayer_perceptron.py:696: ConvergenceWarning: Stochastic Optimizer: Maximum iterations (10) reached and the optimization hasn't converged yet.\n",
      "  ConvergenceWarning,\n"
     ]
    }
   ],
   "source": [
    "from sklearn.neural_network import MLPClassifier\n",
    "\n",
    "# Create an instance of MLPClassifier\n",
    "mlp = MLPClassifier(hidden_layer_sizes=(50,), max_iter=10, alpha=1e-4,\n",
    "                    solver='sgd', verbose=10, tol=1e-4, random_state=1,\n",
    "                    learning_rate_init=.1)\n",
    "\n",
    "# Fit the model on the training data\n",
    "mlp.fit(scaled_train_data, y_train)\n",
    "\n",
    "# Use the model to predict on the test data\n",
    "y_predN1 = mlp.predict(scaled_test_data)\n",
    "\n",
    "# Evaluate the model's performance\n",
    "print(\"Accuracy:\", accuracy_score(y_test, y_predN1))\n"
   ]
  },
  {
   "cell_type": "code",
   "execution_count": 46,
   "id": "a27ebaf8",
   "metadata": {},
   "outputs": [],
   "source": [
    "# Import the necessary libraries\n",
    "#from keras.models import Sequential\n",
    "#from keras.layers import Dense\n",
    "\n",
    "# Define the architecture of the MLP\n",
    "#model = Sequential()\n",
    "#model.add(Dense(64, input_dim=30, activation='relu')) # input layer with 30 inputs and 64 neurons\n",
    "#model.add(Dense(64, activation='relu')) # hidden layer with 64 neurons and relu activation\n",
    "#model.add(Dense(64, activation='relu')) # hidden layer with 64 neurons and relu activation\n",
    "#model.add(Dense(1, activation='sigmoid')) # output layer with 1 neuron and sigmoid activation\n",
    "\n",
    "# Compile the model\n",
    "#model.compile(optimizer='adam', loss='binary_crossentropy', metrics=['accuracy'])\n",
    "\n",
    "# Train the model\n",
    "#model.fit(scaled_train_data, y_trainN, epochs=100, batch_size=32)\n",
    "\n",
    "# Evaluate the model on the test data\n",
    "#test_loss1, test_acc1 = model.evaluate(scaled_test_data, y_testN)\n",
    "#print('Test accuracy:', test_acc1)\n",
    "\n",
    "# Make predictions on new data\n",
    "#predictions = model.predict(X_new)\n"
   ]
  },
  {
   "cell_type": "code",
   "execution_count": 47,
   "id": "a79a492f",
   "metadata": {},
   "outputs": [
    {
     "data": {
      "text/plain": [
       "(143, 1)"
      ]
     },
     "execution_count": 47,
     "metadata": {},
     "output_type": "execute_result"
    }
   ],
   "source": [
    "y_test.shape"
   ]
  },
  {
   "cell_type": "code",
   "execution_count": 48,
   "id": "c39daf4b",
   "metadata": {},
   "outputs": [],
   "source": [
    "#y_test_class_encoded = y_test_class_encoded.astype(int)"
   ]
  },
  {
   "cell_type": "code",
   "execution_count": 49,
   "id": "7cc8c408",
   "metadata": {},
   "outputs": [],
   "source": [
    "#from sklearn.metrics import multilabel_confusion_matrix"
   ]
  },
  {
   "cell_type": "code",
   "execution_count": 50,
   "id": "89aadbcf",
   "metadata": {},
   "outputs": [
    {
     "name": "stdout",
     "output_type": "stream",
     "text": [
      "Confusion Matrix: \n",
      " [[87  3]\n",
      " [ 3 50]]\n"
     ]
    }
   ],
   "source": [
    "# confusion matrix\n",
    "conf_matrixN1 = confusion_matrix(y_test, y_predN1)\n",
    "print(\"Confusion Matrix: \\n\", conf_matrixN1)"
   ]
  },
  {
   "cell_type": "code",
   "execution_count": 51,
   "id": "480cdb54",
   "metadata": {},
   "outputs": [
    {
     "data": {
      "image/png": "[encoded data removed]",
      "text/plain": [
       "<Figure size 432x288 with 2 Axes>"
      ]
     },
     "metadata": {
      "needs_background": "light"
     },
     "output_type": "display_data"
    }
   ],
   "source": [
    "# Create a heatmap of the confusion matrix\n",
    "sns.heatmap(conf_matrixN1, annot=True, fmt='d', cmap='Blues')\n",
    "\n",
    "# Add labels for the x and y axis\n",
    "plt.xlabel('Predicted')\n",
    "plt.ylabel('True')\n",
    "\n",
    "# Display the plot\n",
    "plt.show()"
   ]
  },
  {
   "cell_type": "markdown",
   "id": "e55c06ff",
   "metadata": {},
   "source": [
    "## (b) data with PCA"
   ]
  },
  {
   "cell_type": "code",
   "execution_count": 52,
   "id": "83f8e3ee",
   "metadata": {},
   "outputs": [
    {
     "name": "stdout",
     "output_type": "stream",
     "text": [
      "Iteration 1, loss = 0.43999950\n",
      "Iteration 2, loss = 0.19946755\n",
      "Iteration 3, loss = 0.12038272\n",
      "Iteration 4, loss = 0.09253795\n",
      "Iteration 5, loss = 0.08079431\n",
      "Iteration 6, loss = 0.07383309\n",
      "Iteration 7, loss = 0.06899076\n",
      "Iteration 8, loss = 0.06466442\n",
      "Iteration 9, loss = 0.06033596\n",
      "Iteration 10, loss = 0.05880564\n",
      "Accuracy: 0.958041958041958\n"
     ]
    },
    {
     "name": "stderr",
     "output_type": "stream",
     "text": [
      "c:\\users\\katha\\appdata\\local\\programs\\python\\python37\\lib\\site-packages\\sklearn\\neural_network\\_multilayer_perceptron.py:1109: DataConversionWarning: A column-vector y was passed when a 1d array was expected. Please change the shape of y to (n_samples, ), for example using ravel().\n",
      "  y = column_or_1d(y, warn=True)\n",
      "c:\\users\\katha\\appdata\\local\\programs\\python\\python37\\lib\\site-packages\\sklearn\\neural_network\\_multilayer_perceptron.py:696: ConvergenceWarning: Stochastic Optimizer: Maximum iterations (10) reached and the optimization hasn't converged yet.\n",
      "  ConvergenceWarning,\n"
     ]
    }
   ],
   "source": [
    "from sklearn.neural_network import MLPClassifier\n",
    "\n",
    "# Create an instance of MLPClassifier\n",
    "mlp = MLPClassifier(hidden_layer_sizes=(50,), max_iter=10, alpha=1e-4,\n",
    "                    solver='sgd', verbose=10, tol=1e-4, random_state=1,\n",
    "                    learning_rate_init=.1)\n",
    "\n",
    "# Fit the model on the training data\n",
    "mlp.fit(x_train_pca, y_train)\n",
    "\n",
    "# Use the model to predict on the test data\n",
    "y_predN2 = mlp.predict(x_test_pca)\n",
    "\n",
    "# Evaluate the model's performance\n",
    "print(\"Accuracy:\", accuracy_score(y_test, y_predN2))"
   ]
  },
  {
   "cell_type": "code",
   "execution_count": 53,
   "id": "1078cd47",
   "metadata": {},
   "outputs": [
    {
     "name": "stdout",
     "output_type": "stream",
     "text": [
      "Confusion Matrix: \n",
      " [[85  5]\n",
      " [ 1 52]]\n"
     ]
    }
   ],
   "source": [
    "# confusion matrix\n",
    "conf_matrixN2 = confusion_matrix(y_test, y_predN2)\n",
    "print(\"Confusion Matrix: \\n\", conf_matrixN2)"
   ]
  },
  {
   "cell_type": "code",
   "execution_count": 54,
   "id": "986ed17d",
   "metadata": {},
   "outputs": [
    {
     "data": {
      "image/png": "[encoded data removed]",
      "text/plain": [
       "<Figure size 432x288 with 2 Axes>"
      ]
     },
     "metadata": {
      "needs_background": "light"
     },
     "output_type": "display_data"
    }
   ],
   "source": [
    "# Create a heatmap of the confusion matrix\n",
    "sns.heatmap(conf_matrixN2, annot=True, fmt='d', cmap='Blues')\n",
    "\n",
    "# Add labels for the x and y axis\n",
    "plt.xlabel('Predicted')\n",
    "plt.ylabel('True')\n",
    "\n",
    "# Display the plot\n",
    "plt.show()"
   ]
  },
  {
   "cell_type": "markdown",
   "id": "c233a44f",
   "metadata": {},
   "source": [
    "## (c) data with LDA"
   ]
  },
  {
   "cell_type": "code",
   "execution_count": 55,
   "id": "12f9163c",
   "metadata": {},
   "outputs": [
    {
     "name": "stdout",
     "output_type": "stream",
     "text": [
      "Iteration 1, loss = 0.67560762\n",
      "Iteration 2, loss = 0.19665268\n",
      "Iteration 3, loss = 0.09594453\n",
      "Iteration 4, loss = 0.07154511\n",
      "Iteration 5, loss = 0.06447837\n",
      "Iteration 6, loss = 0.06319206\n",
      "Iteration 7, loss = 0.06307931\n",
      "Iteration 8, loss = 0.06391525\n",
      "Iteration 9, loss = 0.06462262\n",
      "Iteration 10, loss = 0.06472897\n",
      "Accuracy: 0.986013986013986\n"
     ]
    },
    {
     "name": "stderr",
     "output_type": "stream",
     "text": [
      "c:\\users\\katha\\appdata\\local\\programs\\python\\python37\\lib\\site-packages\\sklearn\\neural_network\\_multilayer_perceptron.py:1109: DataConversionWarning: A column-vector y was passed when a 1d array was expected. Please change the shape of y to (n_samples, ), for example using ravel().\n",
      "  y = column_or_1d(y, warn=True)\n",
      "c:\\users\\katha\\appdata\\local\\programs\\python\\python37\\lib\\site-packages\\sklearn\\neural_network\\_multilayer_perceptron.py:696: ConvergenceWarning: Stochastic Optimizer: Maximum iterations (10) reached and the optimization hasn't converged yet.\n",
      "  ConvergenceWarning,\n"
     ]
    }
   ],
   "source": [
    "from sklearn.neural_network import MLPClassifier\n",
    "\n",
    "# Create an instance of MLPClassifier\n",
    "mlp = MLPClassifier(hidden_layer_sizes=(50,), max_iter=10, alpha=1e-4,\n",
    "                    solver='sgd', verbose=10, tol=1e-4, random_state=1,\n",
    "                    learning_rate_init=.1)\n",
    "\n",
    "# Fit the model on the training data\n",
    "mlp.fit(x_train_lda, y_train)\n",
    "\n",
    "# Use the model to predict on the test data\n",
    "y_predN3 = mlp.predict(x_test_lda)\n",
    "\n",
    "# Evaluate the model's performance\n",
    "print(\"Accuracy:\", accuracy_score(y_test, y_predN3))"
   ]
  },
  {
   "cell_type": "code",
   "execution_count": 56,
   "id": "7b3a3829",
   "metadata": {},
   "outputs": [
    {
     "name": "stdout",
     "output_type": "stream",
     "text": [
      "Confusion Matrix: \n",
      " [[90  0]\n",
      " [ 2 51]]\n"
     ]
    }
   ],
   "source": [
    "# confusion matrix\n",
    "conf_matrixN3 = confusion_matrix(y_test, y_predN3)\n",
    "print(\"Confusion Matrix: \\n\", conf_matrixN3)"
   ]
  },
  {
   "cell_type": "code",
   "execution_count": 57,
   "id": "1fbb30e6",
   "metadata": {},
   "outputs": [
    {
     "data": {
      "image/png": "[encoded data removed]",
      "text/plain": [
       "<Figure size 432x288 with 2 Axes>"
      ]
     },
     "metadata": {
      "needs_background": "light"
     },
     "output_type": "display_data"
    }
   ],
   "source": [
    "# Create a heatmap of the confusion matrix\n",
    "sns.heatmap(conf_matrixN3, annot=True, fmt='d', cmap='Blues')\n",
    "\n",
    "# Add labels for the x and y axis\n",
    "plt.xlabel('Predicted')\n",
    "plt.ylabel('True')\n",
    "\n",
    "# Display the plot\n",
    "plt.show()"
   ]
  },
  {
   "cell_type": "markdown",
   "id": "ed87df5c",
   "metadata": {},
   "source": [
    "## 3. SVM "
   ]
  },
  {
   "cell_type": "markdown",
   "id": "b4504ed2",
   "metadata": {},
   "source": [
    "## (a) Using main data"
   ]
  },
  {
   "cell_type": "code",
   "execution_count": 58,
   "id": "826ad487",
   "metadata": {},
   "outputs": [
    {
     "name": "stdout",
     "output_type": "stream",
     "text": [
      "0.951048951048951\n"
     ]
    },
    {
     "name": "stderr",
     "output_type": "stream",
     "text": [
      "c:\\users\\katha\\appdata\\local\\programs\\python\\python37\\lib\\site-packages\\sklearn\\utils\\validation.py:993: DataConversionWarning: A column-vector y was passed when a 1d array was expected. Please change the shape of y to (n_samples, ), for example using ravel().\n",
      "  y = column_or_1d(y, warn=True)\n"
     ]
    }
   ],
   "source": [
    "from sklearn import svm\n",
    "\n",
    "# fit the SVM model to the training data\n",
    "clf = svm.SVC(kernel='linear')\n",
    "clf.fit(scaled_train_data, y_train)\n",
    "\n",
    "# predict the classes of the test data\n",
    "y_predS1 = clf.predict(scaled_test_data)\n",
    "\n",
    "# evaluate the performance of the model\n",
    "from sklearn.metrics import accuracy_score\n",
    "print(accuracy_score(y_test, y_predS1))\n"
   ]
  },
  {
   "cell_type": "code",
   "execution_count": 59,
   "id": "0b63478b",
   "metadata": {},
   "outputs": [
    {
     "name": "stdout",
     "output_type": "stream",
     "text": [
      "Confusion Matrix: \n",
      " [[85  5]\n",
      " [ 2 51]]\n"
     ]
    }
   ],
   "source": [
    "# confusion matrix\n",
    "conf_matrixS1 = confusion_matrix(y_test, y_predS1)\n",
    "print(\"Confusion Matrix: \\n\", conf_matrixS1)"
   ]
  },
  {
   "cell_type": "code",
   "execution_count": 60,
   "id": "8f22f752",
   "metadata": {},
   "outputs": [
    {
     "data": {
      "image/png": "[encoded data removed]",
      "text/plain": [
       "<Figure size 432x288 with 2 Axes>"
      ]
     },
     "metadata": {
      "needs_background": "light"
     },
     "output_type": "display_data"
    }
   ],
   "source": [
    "# Create a heatmap of the confusion matrix\n",
    "sns.heatmap(conf_matrixS1, annot=True, fmt='d', cmap='Blues')\n",
    "\n",
    "# Add labels for the x and y axis\n",
    "plt.xlabel('Predicted')\n",
    "plt.ylabel('True')\n",
    "\n",
    "# Display the plot\n",
    "plt.show()"
   ]
  },
  {
   "cell_type": "markdown",
   "id": "828263e9",
   "metadata": {},
   "source": [
    "## (b) data using PCA"
   ]
  },
  {
   "cell_type": "code",
   "execution_count": 61,
   "id": "fb3600fd",
   "metadata": {},
   "outputs": [
    {
     "name": "stdout",
     "output_type": "stream",
     "text": [
      "0.951048951048951\n"
     ]
    },
    {
     "name": "stderr",
     "output_type": "stream",
     "text": [
      "c:\\users\\katha\\appdata\\local\\programs\\python\\python37\\lib\\site-packages\\sklearn\\utils\\validation.py:993: DataConversionWarning: A column-vector y was passed when a 1d array was expected. Please change the shape of y to (n_samples, ), for example using ravel().\n",
      "  y = column_or_1d(y, warn=True)\n"
     ]
    }
   ],
   "source": [
    "from sklearn import svm\n",
    "\n",
    "# fit the SVM model to the training data\n",
    "clf = svm.SVC(kernel='linear')\n",
    "clf.fit(x_train_pca, y_train)\n",
    "\n",
    "# predict the classes of the test data\n",
    "y_predS2 = clf.predict(x_test_pca)\n",
    "\n",
    "# evaluate the performance of the model\n",
    "from sklearn.metrics import accuracy_score\n",
    "print(accuracy_score(y_test, y_predS2))\n"
   ]
  },
  {
   "cell_type": "code",
   "execution_count": 62,
   "id": "05944cf3",
   "metadata": {},
   "outputs": [
    {
     "name": "stdout",
     "output_type": "stream",
     "text": [
      "Confusion Matrix: \n",
      " [[85  5]\n",
      " [ 2 51]]\n"
     ]
    }
   ],
   "source": [
    "# confusion matrix\n",
    "conf_matrixS2 = confusion_matrix(y_test, y_predS2)\n",
    "print(\"Confusion Matrix: \\n\", conf_matrixS2)"
   ]
  },
  {
   "cell_type": "code",
   "execution_count": 63,
   "id": "ebfb356f",
   "metadata": {},
   "outputs": [
    {
     "data": {
      "image/png": "[encoded data removed]",
      "text/plain": [
       "<Figure size 432x288 with 2 Axes>"
      ]
     },
     "metadata": {
      "needs_background": "light"
     },
     "output_type": "display_data"
    }
   ],
   "source": [
    "# Create a heatmap of the confusion matrix\n",
    "sns.heatmap(conf_matrixS2, annot=True, fmt='d', cmap='Blues')\n",
    "\n",
    "# Add labels for the x and y axis\n",
    "plt.xlabel('Predicted')\n",
    "plt.ylabel('True')\n",
    "\n",
    "# Display the plot\n",
    "plt.show()"
   ]
  },
  {
   "cell_type": "markdown",
   "id": "8a34b59b",
   "metadata": {},
   "source": [
    "## (c) data with LDA"
   ]
  },
  {
   "cell_type": "code",
   "execution_count": 64,
   "id": "198279d7",
   "metadata": {},
   "outputs": [
    {
     "name": "stdout",
     "output_type": "stream",
     "text": [
      "0.986013986013986\n"
     ]
    },
    {
     "name": "stderr",
     "output_type": "stream",
     "text": [
      "c:\\users\\katha\\appdata\\local\\programs\\python\\python37\\lib\\site-packages\\sklearn\\utils\\validation.py:993: DataConversionWarning: A column-vector y was passed when a 1d array was expected. Please change the shape of y to (n_samples, ), for example using ravel().\n",
      "  y = column_or_1d(y, warn=True)\n"
     ]
    }
   ],
   "source": [
    "from sklearn import svm\n",
    "\n",
    "# fit the SVM model to the training data\n",
    "clf = svm.SVC(kernel='linear')\n",
    "clf.fit(x_train_lda, y_train)\n",
    "\n",
    "# predict the classes of the test data\n",
    "y_predS3 = clf.predict(x_test_lda)\n",
    "\n",
    "# evaluate the performance of the model\n",
    "from sklearn.metrics import accuracy_score\n",
    "print(accuracy_score(y_test, y_predS3))\n"
   ]
  },
  {
   "cell_type": "code",
   "execution_count": 65,
   "id": "75a42389",
   "metadata": {},
   "outputs": [
    {
     "name": "stdout",
     "output_type": "stream",
     "text": [
      "Confusion Matrix: \n",
      " [[90  0]\n",
      " [ 2 51]]\n"
     ]
    }
   ],
   "source": [
    "# confusion matrix\n",
    "conf_matrixS3 = confusion_matrix(y_test, y_predS3)\n",
    "print(\"Confusion Matrix: \\n\", conf_matrixS3)"
   ]
  },
  {
   "cell_type": "code",
   "execution_count": 66,
   "id": "e5a45c5e",
   "metadata": {},
   "outputs": [
    {
     "data": {
      "image/png": "[encoded data removed]",
      "text/plain": [
       "<Figure size 432x288 with 2 Axes>"
      ]
     },
     "metadata": {
      "needs_background": "light"
     },
     "output_type": "display_data"
    }
   ],
   "source": [
    "# Create a heatmap of the confusion matrix\n",
    "sns.heatmap(conf_matrixS3, annot=True, fmt='d', cmap='Blues')\n",
    "\n",
    "# Add labels for the x and y axis\n",
    "plt.xlabel('Predicted')\n",
    "plt.ylabel('True')\n",
    "\n",
    "# Display the plot\n",
    "plt.show()"
   ]
  },
  {
   "cell_type": "markdown",
   "id": "cc1df466",
   "metadata": {},
   "source": [
    "# It was all about fitting scaled data, scaled_pca data and scaled_lda data into Random forest model , MLP and SVM models."
   ]
  },
  {
   "cell_type": "markdown",
   "id": "b1e60a17",
   "metadata": {},
   "source": [
    "## All result together: \n",
    "##  1. Scaled data with all models"
   ]
  },
  {
   "cell_type": "code",
   "execution_count": 67,
   "id": "94492b67",
   "metadata": {},
   "outputs": [
    {
     "name": "stdout",
     "output_type": "stream",
     "text": [
      "scaled_RF:\n",
      "0.972027972027972\n",
      "[[87  3]\n",
      " [ 1 52]]\n"
     ]
    }
   ],
   "source": [
    "print(\"scaled_RF:\")\n",
    "print(acc)\n",
    "print(conf_mat)"
   ]
  },
  {
   "cell_type": "code",
   "execution_count": 68,
   "id": "7feaf2d0",
   "metadata": {},
   "outputs": [
    {
     "name": "stdout",
     "output_type": "stream",
     "text": [
      "scaled_MLP:\n",
      "Accuracy: 0.958041958041958\n",
      "Confusion Matrix: \n",
      " [[87  3]\n",
      " [ 3 50]]\n"
     ]
    }
   ],
   "source": [
    "print(\"scaled_MLP:\")\n",
    "print(\"Accuracy:\", accuracy_score(y_test, y_predN1))\n",
    "print(\"Confusion Matrix: \\n\", conf_matrixN1)"
   ]
  },
  {
   "cell_type": "code",
   "execution_count": 69,
   "id": "d5d80083",
   "metadata": {},
   "outputs": [
    {
     "name": "stdout",
     "output_type": "stream",
     "text": [
      "scaled_SVM\n",
      "0.951048951048951\n",
      "Confusion Matrix: \n",
      " [[85  5]\n",
      " [ 2 51]]\n"
     ]
    }
   ],
   "source": [
    "print(\"scaled_SVM\")\n",
    "print(accuracy_score(y_test, y_predS1))\n",
    "print(\"Confusion Matrix: \\n\", conf_matrixS1)"
   ]
  },
  {
   "cell_type": "markdown",
   "id": "c596716a",
   "metadata": {},
   "source": [
    "## 2. data with PCA with all models"
   ]
  },
  {
   "cell_type": "code",
   "execution_count": 70,
   "id": "0d92a7f7",
   "metadata": {},
   "outputs": [
    {
     "name": "stdout",
     "output_type": "stream",
     "text": [
      "PCA_RF:\n",
      "Accuracy:  0.916083916083916\n",
      "Confusion Matrix: \n",
      " [[82  8]\n",
      " [ 4 49]]\n"
     ]
    }
   ],
   "source": [
    "print(\"PCA_RF:\")\n",
    "print(\"Accuracy: \", acc1)\n",
    "print(\"Confusion Matrix: \\n\", conf_matrix)"
   ]
  },
  {
   "cell_type": "code",
   "execution_count": 71,
   "id": "17584d2c",
   "metadata": {},
   "outputs": [
    {
     "name": "stdout",
     "output_type": "stream",
     "text": [
      "PCA_MLP:\n",
      "Accuracy: 0.958041958041958\n",
      "Confusion Matrix: \n",
      " [[85  5]\n",
      " [ 1 52]]\n"
     ]
    }
   ],
   "source": [
    "print(\"PCA_MLP:\")\n",
    "print(\"Accuracy:\", accuracy_score(y_test, y_predN2))\n",
    "print(\"Confusion Matrix: \\n\", conf_matrixN2)"
   ]
  },
  {
   "cell_type": "code",
   "execution_count": 72,
   "id": "7712c1d1",
   "metadata": {},
   "outputs": [
    {
     "name": "stdout",
     "output_type": "stream",
     "text": [
      "PCA_SVM:\n",
      "0.951048951048951\n",
      "Confusion Matrix: \n",
      " [[85  5]\n",
      " [ 2 51]]\n"
     ]
    }
   ],
   "source": [
    "print(\"PCA_SVM:\")\n",
    "print(accuracy_score(y_test, y_predS2))\n",
    "print(\"Confusion Matrix: \\n\", conf_matrixS2)"
   ]
  },
  {
   "cell_type": "markdown",
   "id": "62e4ab80",
   "metadata": {},
   "source": [
    "## 3. data with LDA for all models"
   ]
  },
  {
   "cell_type": "code",
   "execution_count": 73,
   "id": "a1c1ee7f",
   "metadata": {},
   "outputs": [
    {
     "name": "stdout",
     "output_type": "stream",
     "text": [
      "LDA_RF:\n",
      "Accuracy:  0.986013986013986\n",
      "Confusion Matrix: \n",
      " [[90  0]\n",
      " [ 2 51]]\n"
     ]
    }
   ],
   "source": [
    "print(\"LDA_RF:\")\n",
    "print(\"Accuracy: \", acc2)\n",
    "print(\"Confusion Matrix: \\n\", conf_matrix1)"
   ]
  },
  {
   "cell_type": "code",
   "execution_count": 74,
   "id": "ea210d37",
   "metadata": {},
   "outputs": [
    {
     "name": "stdout",
     "output_type": "stream",
     "text": [
      "LDA_MLP:\n",
      "Accuracy: 0.986013986013986\n",
      "Confusion Matrix: \n",
      " [[90  0]\n",
      " [ 2 51]]\n"
     ]
    }
   ],
   "source": [
    "print(\"LDA_MLP:\")\n",
    "print(\"Accuracy:\", accuracy_score(y_test, y_predN3))\n",
    "print(\"Confusion Matrix: \\n\", conf_matrixN3)"
   ]
  },
  {
   "cell_type": "code",
   "execution_count": 75,
   "id": "e7386560",
   "metadata": {},
   "outputs": [
    {
     "name": "stdout",
     "output_type": "stream",
     "text": [
      "LDA_SVM:\n",
      "0.986013986013986\n",
      "Confusion Matrix: \n",
      " [[90  0]\n",
      " [ 2 51]]\n"
     ]
    }
   ],
   "source": [
    "print(\"LDA_SVM:\")\n",
    "print(accuracy_score(y_test, y_predS3))\n",
    "print(\"Confusion Matrix: \\n\", conf_matrixS3)"
   ]
  },
  {
   "cell_type": "code",
   "execution_count": 76,
   "id": "03a2dc57",
   "metadata": {},
   "outputs": [
    {
     "name": "stderr",
     "output_type": "stream",
     "text": [
      "c:\\users\\katha\\appdata\\local\\programs\\python\\python37\\lib\\site-packages\\seaborn\\_decorators.py:43: FutureWarning: Pass the following variable as a keyword arg: x. From version 0.12, the only valid positional argument will be `data`, and passing other arguments without an explicit keyword will result in an error or misinterpretation.\n",
      "  FutureWarning\n"
     ]
    },
    {
     "data": {
      "image/png": "[encoded data removed]",
      "text/plain": [
       "<Figure size 432x288 with 1 Axes>"
      ]
     },
     "metadata": {
      "needs_background": "light"
     },
     "output_type": "display_data"
    }
   ],
   "source": [
    "sns.countplot(BCR['Diagnosis'])\n",
    "plt.show()"
   ]
  },
  {
   "cell_type": "code",
   "execution_count": null,
   "id": "d996a8e5",
   "metadata": {},
   "outputs": [],
   "source": []
  }
 ],
 "metadata": {
  "kernelspec": {
   "display_name": "Python 3 (ipykernel)",
   "language": "python",
   "name": "python3"
  },
  "language_info": {
   "codemirror_mode": {
    "name": "ipython",
    "version": 3
   },
   "file_extension": ".py",
   "mimetype": "text/x-python",
   "name": "python",
   "nbconvert_exporter": "python",
   "pygments_lexer": "ipython3",
   "version": "3.7.9"
  }
 },
 "nbformat": 4,
 "nbformat_minor": 5
}
