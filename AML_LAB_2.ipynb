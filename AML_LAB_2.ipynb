{
 "cells": [
  {
   "cell_type": "code",
   "execution_count": 1,
   "id": "86d5e391",
   "metadata": {},
   "outputs": [],
   "source": [
    "import numpy as np\n",
    "import pandas as pd\n",
    "\n",
    "df = pd.read_csv(r\"C:\\Users\\katha\\OneDrive\\Documents\\data\\diabetes.csv\")"
   ]
  },
  {
   "cell_type": "code",
   "execution_count": 2,
   "id": "095b23d3",
   "metadata": {},
   "outputs": [],
   "source": [
    "data = pd.DataFrame(df)"
   ]
  },
  {
   "cell_type": "code",
   "execution_count": 3,
   "id": "8aa2d2ee",
   "metadata": {},
   "outputs": [
    {
     "data": {
      "text/plain": [
       "Index(['preg', 'plas', 'pres', 'skin', 'insu', 'mass', 'pedi', 'age', 'class'], dtype='object')"
      ]
     },
     "execution_count": 3,
     "metadata": {},
     "output_type": "execute_result"
    }
   ],
   "source": [
    "data.keys()"
   ]
  },
  {
   "cell_type": "markdown",
   "id": "70b72bad",
   "metadata": {},
   "source": [
    "## Step:3 Splitting data into train-test split"
   ]
  },
  {
   "cell_type": "code",
   "execution_count": 4,
   "id": "490925d2",
   "metadata": {},
   "outputs": [],
   "source": [
    "import matplotlib.pyplot as plt\n",
    "from sklearn.model_selection import train_test_split"
   ]
  },
  {
   "cell_type": "code",
   "execution_count": 5,
   "id": "2a01d378",
   "metadata": {},
   "outputs": [],
   "source": [
    "X = data[['preg','plas','pres','skin','insu','mass','pedi','age']]"
   ]
  },
  {
   "cell_type": "code",
   "execution_count": 6,
   "id": "6ae59dd3",
   "metadata": {},
   "outputs": [],
   "source": [
    "y = data['class']"
   ]
  },
  {
   "cell_type": "code",
   "execution_count": 7,
   "id": "a19816d3",
   "metadata": {},
   "outputs": [],
   "source": [
    "X = pd.DataFrame(X)"
   ]
  },
  {
   "cell_type": "code",
   "execution_count": 8,
   "id": "08730b3d",
   "metadata": {},
   "outputs": [],
   "source": [
    "y = pd.DataFrame(y)"
   ]
  },
  {
   "cell_type": "code",
   "execution_count": 9,
   "id": "b1420e5a",
   "metadata": {},
   "outputs": [],
   "source": [
    "X_train, X_test, y_train, y_test = train_test_split(X, y, random_state=0, train_size = 0.75)"
   ]
  },
  {
   "cell_type": "markdown",
   "id": "55ba6d36",
   "metadata": {},
   "source": [
    "## Step: 4 & 5 Apply SVM on data without scaling it."
   ]
  },
  {
   "cell_type": "code",
   "execution_count": 10,
   "id": "caa7d057",
   "metadata": {},
   "outputs": [
    {
     "name": "stderr",
     "output_type": "stream",
     "text": [
      "c:\\users\\katha\\appdata\\local\\programs\\python\\python37\\lib\\site-packages\\sklearn\\utils\\validation.py:993: DataConversionWarning: A column-vector y was passed when a 1d array was expected. Please change the shape of y to (n_samples, ), for example using ravel().\n",
      "  y = column_or_1d(y, warn=True)\n"
     ]
    }
   ],
   "source": [
    "from sklearn import svm\n",
    "from sklearn.metrics import confusion_matrix, accuracy_score\n",
    "\n",
    "# fit the SVM model to the training data\n",
    "clf = svm.SVC(kernel='linear')\n",
    "clf.fit(X_train, y_train)\n",
    "\n",
    "# predict the classes of the test data\n",
    "y_pred = clf.predict(X_test)"
   ]
  },
  {
   "cell_type": "markdown",
   "id": "d46ccdcf",
   "metadata": {},
   "source": [
    "## Step 6 : Print accuracy and confusion matrix"
   ]
  },
  {
   "cell_type": "code",
   "execution_count": 11,
   "id": "932f9759",
   "metadata": {},
   "outputs": [
    {
     "name": "stdout",
     "output_type": "stream",
     "text": [
      "0.8020833333333334\n",
      "[[117  13]\n",
      " [ 25  37]]\n"
     ]
    }
   ],
   "source": [
    "# evaluate the performance of the model\n",
    "from sklearn.metrics import accuracy_score\n",
    "print(accuracy_score(y_test, y_pred))\n",
    "\n",
    "# Calculate the confusion matrix\n",
    "conf_mat = confusion_matrix(y_test, y_pred)\n",
    "print(conf_mat)"
   ]
  },
  {
   "cell_type": "markdown",
   "id": "69bb996f",
   "metadata": {},
   "source": [
    "## Step 7 : Standardize the data"
   ]
  },
  {
   "cell_type": "code",
   "execution_count": 12,
   "id": "a39aa4ae",
   "metadata": {},
   "outputs": [
    {
     "data": {
      "text/plain": [
       "StandardScaler()"
      ]
     },
     "execution_count": 12,
     "metadata": {},
     "output_type": "execute_result"
    }
   ],
   "source": [
    "from sklearn.preprocessing import StandardScaler\n",
    "#first fit then transform train data\n",
    "scaler=StandardScaler()\n",
    "scaler.fit(X_train)"
   ]
  },
  {
   "cell_type": "code",
   "execution_count": 13,
   "id": "cd59f935",
   "metadata": {},
   "outputs": [],
   "source": [
    "scaled_train_data=scaler.transform(X_train)"
   ]
  },
  {
   "cell_type": "code",
   "execution_count": 14,
   "id": "96469ee0",
   "metadata": {},
   "outputs": [],
   "source": [
    "#fit then transform test data\n",
    "scaler.fit(X_test)\n",
    "scaled_test_data=scaler.transform(X_test)"
   ]
  },
  {
   "cell_type": "markdown",
   "id": "60e7dfde",
   "metadata": {},
   "source": [
    "## Step 8 : feed model with standadize data"
   ]
  },
  {
   "cell_type": "code",
   "execution_count": 15,
   "id": "795bb99a",
   "metadata": {},
   "outputs": [
    {
     "name": "stderr",
     "output_type": "stream",
     "text": [
      "c:\\users\\katha\\appdata\\local\\programs\\python\\python37\\lib\\site-packages\\sklearn\\utils\\validation.py:993: DataConversionWarning: A column-vector y was passed when a 1d array was expected. Please change the shape of y to (n_samples, ), for example using ravel().\n",
      "  y = column_or_1d(y, warn=True)\n"
     ]
    }
   ],
   "source": [
    "from sklearn import svm\n",
    "from sklearn.metrics import confusion_matrix, accuracy_score\n",
    "\n",
    "# fit the SVM model to the training data\n",
    "clf = svm.SVC(kernel='linear')\n",
    "clf.fit(scaled_train_data, y_train)\n",
    "\n",
    "# predict the classes of the test data\n",
    "y_pred1 = clf.predict(scaled_test_data)"
   ]
  },
  {
   "cell_type": "code",
   "execution_count": 16,
   "id": "f520f2b6",
   "metadata": {},
   "outputs": [
    {
     "name": "stdout",
     "output_type": "stream",
     "text": [
      "0.8072916666666666\n",
      "[[117  13]\n",
      " [ 24  38]]\n"
     ]
    }
   ],
   "source": [
    "# evaluate the performance of the model\n",
    "from sklearn.metrics import accuracy_score\n",
    "print(accuracy_score(y_test, y_pred1))\n",
    "\n",
    "# Calculate the confusion matrix\n",
    "conf_mat1 = confusion_matrix(y_test, y_pred1)\n",
    "print(conf_mat1)"
   ]
  },
  {
   "cell_type": "markdown",
   "id": "7589910f",
   "metadata": {},
   "source": [
    "## Step 9 & 10 : Apply PCA on standardize data"
   ]
  },
  {
   "cell_type": "code",
   "execution_count": 17,
   "id": "97e74055",
   "metadata": {},
   "outputs": [
    {
     "data": {
      "text/plain": [
       "PCA(n_components=3)"
      ]
     },
     "execution_count": 17,
     "metadata": {},
     "output_type": "execute_result"
    }
   ],
   "source": [
    "from sklearn.decomposition import PCA\n",
    "pca=PCA(n_components=3)\n",
    "#again fit and transform the scaled data\n",
    "pca.fit(scaled_train_data)\n"
   ]
  },
  {
   "cell_type": "code",
   "execution_count": 18,
   "id": "1b33d73e",
   "metadata": {},
   "outputs": [],
   "source": [
    "x_train_pca=pca.transform(scaled_train_data)"
   ]
  },
  {
   "cell_type": "code",
   "execution_count": 19,
   "id": "adafd5ea",
   "metadata": {},
   "outputs": [],
   "source": [
    "# do the same for test data\n",
    "#fit and transform test data\n",
    "pca.fit(scaled_test_data)\n",
    "x_test_pca=pca.transform(scaled_test_data)"
   ]
  },
  {
   "cell_type": "code",
   "execution_count": 20,
   "id": "55b7e0ab",
   "metadata": {},
   "outputs": [
    {
     "data": {
      "text/plain": [
       "(576, 8)"
      ]
     },
     "execution_count": 20,
     "metadata": {},
     "output_type": "execute_result"
    }
   ],
   "source": [
    "#check the dimensions\n",
    "scaled_train_data.shape"
   ]
  },
  {
   "cell_type": "code",
   "execution_count": 21,
   "id": "9aad8e18",
   "metadata": {},
   "outputs": [
    {
     "data": {
      "text/plain": [
       "(576, 3)"
      ]
     },
     "execution_count": 21,
     "metadata": {},
     "output_type": "execute_result"
    }
   ],
   "source": [
    "x_train_pca.shape"
   ]
  },
  {
   "cell_type": "code",
   "execution_count": 22,
   "id": "79e5320e",
   "metadata": {},
   "outputs": [
    {
     "data": {
      "image/png": "[encoded data removed]",
      "text/plain": [
       "<Figure size 432x288 with 1 Axes>"
      ]
     },
     "metadata": {
      "needs_background": "light"
     },
     "output_type": "display_data"
    }
   ],
   "source": [
    "pca = PCA()\n",
    "pca.fit(scaled_train_data)\n",
    "\n",
    "# Generate the scree plot\n",
    "plt.plot(pca.explained_variance_ratio_)\n",
    "plt.xlabel('Number of Principal Components')\n",
    "plt.ylabel('Proportion of Variance Explained')\n",
    "plt.show()"
   ]
  },
  {
   "cell_type": "markdown",
   "id": "7cf9cff7",
   "metadata": {},
   "source": [
    "### we have elbow point on 2 so we will check for higher accuracy from 2-5"
   ]
  },
  {
   "cell_type": "markdown",
   "id": "b7efdaba",
   "metadata": {},
   "source": [
    "## I think there is no need of repeating PCA steps again so I put n=2 and run the whole code again "
   ]
  },
  {
   "cell_type": "code",
   "execution_count": 23,
   "id": "4b179115",
   "metadata": {},
   "outputs": [
    {
     "name": "stdout",
     "output_type": "stream",
     "text": [
      "Explained Variance:  [2.09408303 1.75238616 1.04760973 0.89136434 0.76406938 0.66560372\n",
      " 0.40582203 0.39297467]\n"
     ]
    }
   ],
   "source": [
    "# Print the explained variance of each principal component\n",
    "print(\"Explained Variance: \", pca.explained_variance_)"
   ]
  },
  {
   "cell_type": "code",
   "execution_count": 24,
   "id": "bb05ad79",
   "metadata": {},
   "outputs": [
    {
     "name": "stdout",
     "output_type": "stream",
     "text": [
      "Sum of Explained Variance:  8.013913043478265\n"
     ]
    }
   ],
   "source": [
    "# Print the sum of the explained variance\n",
    "print(\"Sum of Explained Variance: \", pca.explained_variance_.sum())"
   ]
  },
  {
   "cell_type": "code",
   "execution_count": 25,
   "id": "5c943136",
   "metadata": {},
   "outputs": [
    {
     "name": "stderr",
     "output_type": "stream",
     "text": [
      "c:\\users\\katha\\appdata\\local\\programs\\python\\python37\\lib\\site-packages\\sklearn\\utils\\validation.py:993: DataConversionWarning: A column-vector y was passed when a 1d array was expected. Please change the shape of y to (n_samples, ), for example using ravel().\n",
      "  y = column_or_1d(y, warn=True)\n"
     ]
    }
   ],
   "source": [
    "from sklearn import svm\n",
    "from sklearn.metrics import confusion_matrix, accuracy_score\n",
    "\n",
    "# fit the SVM model to the training data\n",
    "clf = svm.SVC(kernel='linear')\n",
    "clf.fit(x_train_pca, y_train)\n",
    "\n",
    "# predict the classes of the test data\n",
    "y_pred2 = clf.predict(x_test_pca)"
   ]
  },
  {
   "cell_type": "code",
   "execution_count": 26,
   "id": "d04d14cc",
   "metadata": {},
   "outputs": [
    {
     "name": "stdout",
     "output_type": "stream",
     "text": [
      "0.7395833333333334\n",
      "[[110  20]\n",
      " [ 30  32]]\n"
     ]
    }
   ],
   "source": [
    "# evaluate the performance of the model\n",
    "from sklearn.metrics import accuracy_score\n",
    "print(accuracy_score(y_test, y_pred2))\n",
    "\n",
    "# Calculate the confusion matrix\n",
    "conf_mat2 = confusion_matrix(y_test, y_pred2)\n",
    "print(conf_mat2)"
   ]
  },
  {
   "cell_type": "markdown",
   "id": "8d7c71a7",
   "metadata": {},
   "source": [
    "## Step 11 : Apply LDA on standardize data"
   ]
  },
  {
   "cell_type": "code",
   "execution_count": 27,
   "id": "f10cb4b9",
   "metadata": {},
   "outputs": [
    {
     "name": "stderr",
     "output_type": "stream",
     "text": [
      "c:\\users\\katha\\appdata\\local\\programs\\python\\python37\\lib\\site-packages\\sklearn\\utils\\validation.py:993: DataConversionWarning: A column-vector y was passed when a 1d array was expected. Please change the shape of y to (n_samples, ), for example using ravel().\n",
      "  y = column_or_1d(y, warn=True)\n",
      "c:\\users\\katha\\appdata\\local\\programs\\python\\python37\\lib\\site-packages\\sklearn\\utils\\validation.py:993: DataConversionWarning: A column-vector y was passed when a 1d array was expected. Please change the shape of y to (n_samples, ), for example using ravel().\n",
      "  y = column_or_1d(y, warn=True)\n"
     ]
    }
   ],
   "source": [
    "from sklearn.discriminant_analysis import LinearDiscriminantAnalysis as LDA\n",
    "\n",
    "# Apply FDA to reduce dimensionality\n",
    "lda = LDA(n_components= 1)\n",
    "x_train_lda = lda.fit_transform(scaled_train_data , y_train)\n",
    "x_test_lda = lda.fit_transform(scaled_test_data , y_test)"
   ]
  },
  {
   "cell_type": "markdown",
   "id": "5c598fbd",
   "metadata": {},
   "source": [
    "## Step 12 : Feed model with standardize LDA data"
   ]
  },
  {
   "cell_type": "code",
   "execution_count": 28,
   "id": "785dbc60",
   "metadata": {},
   "outputs": [
    {
     "name": "stderr",
     "output_type": "stream",
     "text": [
      "c:\\users\\katha\\appdata\\local\\programs\\python\\python37\\lib\\site-packages\\sklearn\\utils\\validation.py:993: DataConversionWarning: A column-vector y was passed when a 1d array was expected. Please change the shape of y to (n_samples, ), for example using ravel().\n",
      "  y = column_or_1d(y, warn=True)\n"
     ]
    }
   ],
   "source": [
    "from sklearn import svm\n",
    "from sklearn.metrics import confusion_matrix, accuracy_score\n",
    "\n",
    "# fit the SVM model to the training data\n",
    "clf = svm.SVC(kernel='linear')\n",
    "clf.fit(x_train_lda, y_train)\n",
    "\n",
    "# predict the classes of the test data\n",
    "y_pred3 = clf.predict(x_test_lda)"
   ]
  },
  {
   "cell_type": "code",
   "execution_count": 29,
   "id": "8935ff99",
   "metadata": {},
   "outputs": [
    {
     "name": "stdout",
     "output_type": "stream",
     "text": [
      "0.8072916666666666\n",
      "[[116  14]\n",
      " [ 23  39]]\n"
     ]
    }
   ],
   "source": [
    "# evaluate the performance of the model\n",
    "from sklearn.metrics import accuracy_score\n",
    "print(accuracy_score(y_test, y_pred3))\n",
    "\n",
    "# Calculate the confusion matrix\n",
    "conf_mat3 = confusion_matrix(y_test, y_pred3)\n",
    "print(conf_mat3)"
   ]
  },
  {
   "cell_type": "markdown",
   "id": "0a246e3f",
   "metadata": {},
   "source": [
    "# Step 13: I have done in WORD "
   ]
  }
 ],
 "metadata": {
  "kernelspec": {
   "display_name": "Python 3 (ipykernel)",
   "language": "python",
   "name": "python3"
  },
  "language_info": {
   "codemirror_mode": {
    "name": "ipython",
    "version": 3
   },
   "file_extension": ".py",
   "mimetype": "text/x-python",
   "name": "python",
   "nbconvert_exporter": "python",
   "pygments_lexer": "ipython3",
   "version": "3.7.9"
  }
 },
 "nbformat": 4,
 "nbformat_minor": 5
}
